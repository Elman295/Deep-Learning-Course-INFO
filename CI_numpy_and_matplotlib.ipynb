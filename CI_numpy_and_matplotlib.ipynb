{
  "nbformat": 4,
  "nbformat_minor": 0,
  "metadata": {
    "colab": {
      "provenance": [],
      "authorship_tag": "ABX9TyMS4LsafsiXgZIBqJ6yyOd/",
      "include_colab_link": true
    },
    "kernelspec": {
      "name": "python3",
      "display_name": "Python 3"
    },
    "language_info": {
      "name": "python"
    }
  },
  "cells": [
    {
      "cell_type": "markdown",
      "metadata": {
        "id": "view-in-github",
        "colab_type": "text"
      },
      "source": [
        "<a href=\"https://colab.research.google.com/github/Elman295/Deep-Learning-Course-INFO/blob/main/CI_numpy_and_matplotlib.ipynb\" target=\"_parent\"><img src=\"https://colab.research.google.com/assets/colab-badge.svg\" alt=\"Open In Colab\"/></a>"
      ]
    },
    {
      "cell_type": "markdown",
      "source": [
        "Source:\n",
        "\n",
        "[numpy](https://numpy.org/doc/stable/user/absolute_beginners.html)\n",
        "\n",
        "[matplotlib](https://matplotlib.org/stable/users/getting_started/)"
      ],
      "metadata": {
        "id": "OF0FQkkeLTnT"
      }
    },
    {
      "cell_type": "code",
      "execution_count": null,
      "metadata": {
        "id": "mQGr85ppKMdY"
      },
      "outputs": [],
      "source": [
        "import numpy as np\n",
        "import matplotlib.pyplot as plt"
      ]
    },
    {
      "cell_type": "markdown",
      "source": [
        "\n",
        "\n",
        "```\n",
        "!pip install numpy\n",
        "```\n",
        "\n"
      ],
      "metadata": {
        "id": "4QwfEZVULw6M"
      }
    },
    {
      "cell_type": "markdown",
      "source": [
        "\n",
        "\n",
        "```\n",
        "!pip install matplotlib\n",
        "```\n",
        "\n"
      ],
      "metadata": {
        "id": "0PPAeQHZL1EW"
      }
    },
    {
      "cell_type": "code",
      "source": [
        "print(np.__version__)"
      ],
      "metadata": {
        "colab": {
          "base_uri": "https://localhost:8080/"
        },
        "id": "wZNQfXKTLZNq",
        "outputId": "ad84ba93-d02e-4df2-f2bc-92fd3043b4be"
      },
      "execution_count": null,
      "outputs": [
        {
          "output_type": "stream",
          "name": "stdout",
          "text": [
            "1.23.5\n"
          ]
        }
      ]
    },
    {
      "cell_type": "code",
      "source": [
        "a = np.array([1,2,3,4]) # vector\n",
        "print(a)"
      ],
      "metadata": {
        "colab": {
          "base_uri": "https://localhost:8080/"
        },
        "id": "seLw-qHDMbUp",
        "outputId": "7bf9a77f-d57d-4a06-9d95-35c0131654c1"
      },
      "execution_count": null,
      "outputs": [
        {
          "output_type": "stream",
          "name": "stdout",
          "text": [
            "[1 2 3 4]\n"
          ]
        }
      ]
    },
    {
      "cell_type": "code",
      "source": [
        "print(a.shape)"
      ],
      "metadata": {
        "colab": {
          "base_uri": "https://localhost:8080/"
        },
        "id": "sHeTdWdGMh3h",
        "outputId": "506f3416-f7d3-4b4b-f1e9-dbb48b67c4b3"
      },
      "execution_count": null,
      "outputs": [
        {
          "output_type": "stream",
          "name": "stdout",
          "text": [
            "(4,)\n"
          ]
        }
      ]
    },
    {
      "cell_type": "code",
      "source": [
        "print(a[0])"
      ],
      "metadata": {
        "colab": {
          "base_uri": "https://localhost:8080/"
        },
        "id": "M1HjcBiJMkLT",
        "outputId": "7b41832b-6bc3-464b-9a69-6ded327f505d"
      },
      "execution_count": null,
      "outputs": [
        {
          "output_type": "stream",
          "name": "stdout",
          "text": [
            "1\n"
          ]
        }
      ]
    },
    {
      "cell_type": "code",
      "source": [
        "print(a[:3])"
      ],
      "metadata": {
        "colab": {
          "base_uri": "https://localhost:8080/"
        },
        "id": "k-YVuDK_Mmo-",
        "outputId": "91a14adb-6343-4af5-b571-7134fb5e7862"
      },
      "execution_count": null,
      "outputs": [
        {
          "output_type": "stream",
          "name": "stdout",
          "text": [
            "[1 2 3]\n"
          ]
        }
      ]
    },
    {
      "cell_type": "code",
      "source": [
        "print(a.dtype)"
      ],
      "metadata": {
        "colab": {
          "base_uri": "https://localhost:8080/"
        },
        "id": "_5l3uaRhMowu",
        "outputId": "23b61ce4-2f6f-406e-ac45-809351bcc298"
      },
      "execution_count": null,
      "outputs": [
        {
          "output_type": "stream",
          "name": "stdout",
          "text": [
            "int64\n"
          ]
        }
      ]
    },
    {
      "cell_type": "code",
      "source": [
        "a = a.reshape(2,2)\n",
        "print(a)"
      ],
      "metadata": {
        "colab": {
          "base_uri": "https://localhost:8080/"
        },
        "id": "N_caNPxTMs3-",
        "outputId": "9decb0be-280a-4f8f-dd93-5219b0def15e"
      },
      "execution_count": null,
      "outputs": [
        {
          "output_type": "stream",
          "name": "stdout",
          "text": [
            "[[1 2]\n",
            " [3 4]]\n"
          ]
        }
      ]
    },
    {
      "cell_type": "code",
      "source": [
        "a = a.astype(np.float32)\n",
        "print(a.dtype)"
      ],
      "metadata": {
        "colab": {
          "base_uri": "https://localhost:8080/"
        },
        "id": "i2Lw_NqcMy66",
        "outputId": "c09cd0e2-9dc2-4cef-9e34-8b4b150a472e"
      },
      "execution_count": null,
      "outputs": [
        {
          "output_type": "stream",
          "name": "stdout",
          "text": [
            "float32\n"
          ]
        }
      ]
    },
    {
      "cell_type": "code",
      "source": [
        "b = np.array([[1,2],[3,4]])\n",
        "print(b)"
      ],
      "metadata": {
        "colab": {
          "base_uri": "https://localhost:8080/"
        },
        "id": "xfkvNJ2nM3OP",
        "outputId": "3ab55cdd-7fa9-46a9-d6be-ab26f29d5ecb"
      },
      "execution_count": null,
      "outputs": [
        {
          "output_type": "stream",
          "name": "stdout",
          "text": [
            "[[1 2]\n",
            " [3 4]]\n"
          ]
        }
      ]
    },
    {
      "cell_type": "code",
      "source": [
        "print(b.shape)"
      ],
      "metadata": {
        "colab": {
          "base_uri": "https://localhost:8080/"
        },
        "id": "jr2gpIAsM7-g",
        "outputId": "a380e774-8006-4967-b8cb-de2821b55e70"
      },
      "execution_count": null,
      "outputs": [
        {
          "output_type": "stream",
          "name": "stdout",
          "text": [
            "(2, 2)\n"
          ]
        }
      ]
    },
    {
      "cell_type": "code",
      "source": [
        "print(b[0,0])"
      ],
      "metadata": {
        "colab": {
          "base_uri": "https://localhost:8080/"
        },
        "id": "LtpQvXplP-Lu",
        "outputId": "5aade5fe-3ee6-478d-cc7b-7952b1c37ad2"
      },
      "execution_count": null,
      "outputs": [
        {
          "output_type": "stream",
          "name": "stdout",
          "text": [
            "1\n"
          ]
        }
      ]
    },
    {
      "cell_type": "code",
      "source": [
        "print(b[-1, -1])"
      ],
      "metadata": {
        "colab": {
          "base_uri": "https://localhost:8080/"
        },
        "id": "z_a5DXfeQAjy",
        "outputId": "5c548f01-334b-41d6-c0ce-5716deab4dfe"
      },
      "execution_count": null,
      "outputs": [
        {
          "output_type": "stream",
          "name": "stdout",
          "text": [
            "4\n"
          ]
        }
      ]
    },
    {
      "cell_type": "code",
      "source": [
        "print(b.reshape(-1, 4))\n",
        "print(\"=-=-=-=-=-=-=-=-=-=-=\")\n",
        "print(b.flatten())\n",
        "print(\"=-=-=-=-=-=-=-=-=-=-=\")\n",
        "print(b.reshape(4, -1))"
      ],
      "metadata": {
        "colab": {
          "base_uri": "https://localhost:8080/"
        },
        "id": "CSWOq3mcM9zr",
        "outputId": "28291d3d-1cbc-4eaa-9317-cc4988fea016"
      },
      "execution_count": null,
      "outputs": [
        {
          "output_type": "stream",
          "name": "stdout",
          "text": [
            "[[1 2 3 4]]\n",
            "=-=-=-=-=-=-=-=-=-=-=\n",
            "[1 2 3 4]\n",
            "=-=-=-=-=-=-=-=-=-=-=\n",
            "[[1]\n",
            " [2]\n",
            " [3]\n",
            " [4]]\n"
          ]
        }
      ]
    },
    {
      "cell_type": "code",
      "source": [
        "a_0 = np.zeros(shape=(10,10))\n",
        "a_1 = np.ones(shape = (10,10))\n",
        "a_3_full = np.full(shape = (10,10), fill_value = 3)\n",
        "a_3 = np.ones(shape = (10, 10)) * 3\n",
        "I = np.eye(N = 10)\n",
        "\n",
        "print(a_0)\n",
        "print(\"=-=-=-=-=-=-=-=-=-=-=\")\n",
        "print(a_1)\n",
        "print(\"=-=-=-=-=-=-=-=-=-=-=\")\n",
        "print(a_3_full)\n",
        "print(\"=-=-=-=-=-=-=-=-=-=-=\")\n",
        "print(a_3)\n",
        "print(\"=-=-=-=-=-=-=-=-=-=-=\")\n",
        "print(I)"
      ],
      "metadata": {
        "colab": {
          "base_uri": "https://localhost:8080/"
        },
        "id": "3_9KXnGXNH1r",
        "outputId": "86bebd6b-26d4-477a-ca41-d57c8f963b57"
      },
      "execution_count": null,
      "outputs": [
        {
          "output_type": "stream",
          "name": "stdout",
          "text": [
            "[[0. 0. 0. 0. 0. 0. 0. 0. 0. 0.]\n",
            " [0. 0. 0. 0. 0. 0. 0. 0. 0. 0.]\n",
            " [0. 0. 0. 0. 0. 0. 0. 0. 0. 0.]\n",
            " [0. 0. 0. 0. 0. 0. 0. 0. 0. 0.]\n",
            " [0. 0. 0. 0. 0. 0. 0. 0. 0. 0.]\n",
            " [0. 0. 0. 0. 0. 0. 0. 0. 0. 0.]\n",
            " [0. 0. 0. 0. 0. 0. 0. 0. 0. 0.]\n",
            " [0. 0. 0. 0. 0. 0. 0. 0. 0. 0.]\n",
            " [0. 0. 0. 0. 0. 0. 0. 0. 0. 0.]\n",
            " [0. 0. 0. 0. 0. 0. 0. 0. 0. 0.]]\n",
            "=-=-=-=-=-=-=-=-=-=-=\n",
            "[[1. 1. 1. 1. 1. 1. 1. 1. 1. 1.]\n",
            " [1. 1. 1. 1. 1. 1. 1. 1. 1. 1.]\n",
            " [1. 1. 1. 1. 1. 1. 1. 1. 1. 1.]\n",
            " [1. 1. 1. 1. 1. 1. 1. 1. 1. 1.]\n",
            " [1. 1. 1. 1. 1. 1. 1. 1. 1. 1.]\n",
            " [1. 1. 1. 1. 1. 1. 1. 1. 1. 1.]\n",
            " [1. 1. 1. 1. 1. 1. 1. 1. 1. 1.]\n",
            " [1. 1. 1. 1. 1. 1. 1. 1. 1. 1.]\n",
            " [1. 1. 1. 1. 1. 1. 1. 1. 1. 1.]\n",
            " [1. 1. 1. 1. 1. 1. 1. 1. 1. 1.]]\n",
            "=-=-=-=-=-=-=-=-=-=-=\n",
            "[[3 3 3 3 3 3 3 3 3 3]\n",
            " [3 3 3 3 3 3 3 3 3 3]\n",
            " [3 3 3 3 3 3 3 3 3 3]\n",
            " [3 3 3 3 3 3 3 3 3 3]\n",
            " [3 3 3 3 3 3 3 3 3 3]\n",
            " [3 3 3 3 3 3 3 3 3 3]\n",
            " [3 3 3 3 3 3 3 3 3 3]\n",
            " [3 3 3 3 3 3 3 3 3 3]\n",
            " [3 3 3 3 3 3 3 3 3 3]\n",
            " [3 3 3 3 3 3 3 3 3 3]]\n",
            "=-=-=-=-=-=-=-=-=-=-=\n",
            "[[3. 3. 3. 3. 3. 3. 3. 3. 3. 3.]\n",
            " [3. 3. 3. 3. 3. 3. 3. 3. 3. 3.]\n",
            " [3. 3. 3. 3. 3. 3. 3. 3. 3. 3.]\n",
            " [3. 3. 3. 3. 3. 3. 3. 3. 3. 3.]\n",
            " [3. 3. 3. 3. 3. 3. 3. 3. 3. 3.]\n",
            " [3. 3. 3. 3. 3. 3. 3. 3. 3. 3.]\n",
            " [3. 3. 3. 3. 3. 3. 3. 3. 3. 3.]\n",
            " [3. 3. 3. 3. 3. 3. 3. 3. 3. 3.]\n",
            " [3. 3. 3. 3. 3. 3. 3. 3. 3. 3.]\n",
            " [3. 3. 3. 3. 3. 3. 3. 3. 3. 3.]]\n",
            "=-=-=-=-=-=-=-=-=-=-=\n",
            "[[1. 0. 0. 0. 0. 0. 0. 0. 0. 0.]\n",
            " [0. 1. 0. 0. 0. 0. 0. 0. 0. 0.]\n",
            " [0. 0. 1. 0. 0. 0. 0. 0. 0. 0.]\n",
            " [0. 0. 0. 1. 0. 0. 0. 0. 0. 0.]\n",
            " [0. 0. 0. 0. 1. 0. 0. 0. 0. 0.]\n",
            " [0. 0. 0. 0. 0. 1. 0. 0. 0. 0.]\n",
            " [0. 0. 0. 0. 0. 0. 1. 0. 0. 0.]\n",
            " [0. 0. 0. 0. 0. 0. 0. 1. 0. 0.]\n",
            " [0. 0. 0. 0. 0. 0. 0. 0. 1. 0.]\n",
            " [0. 0. 0. 0. 0. 0. 0. 0. 0. 1.]]\n"
          ]
        }
      ]
    },
    {
      "cell_type": "code",
      "source": [
        "r1 = np.random.rand(100).reshape(10,10)\n",
        "r2 = np.random.randn(100).reshape(10,10)\n",
        "print(r1)\n",
        "print(\"=-=-=-=-=-=-=-=-=-=-=\")\n",
        "print(r2)"
      ],
      "metadata": {
        "colab": {
          "base_uri": "https://localhost:8080/"
        },
        "id": "QsxwUAM0OSRv",
        "outputId": "0df44223-5028-4793-ff8e-c094d349c6f4"
      },
      "execution_count": null,
      "outputs": [
        {
          "output_type": "stream",
          "name": "stdout",
          "text": [
            "[[0.10647039 0.77834805 0.12064694 0.97431333 0.95964172 0.03281774\n",
            "  0.66706384 0.85211407 0.59581658 0.77993495]\n",
            " [0.57895194 0.3297563  0.55664785 0.87828246 0.91208295 0.10777139\n",
            "  0.96876328 0.87821153 0.95304422 0.65017408]\n",
            " [0.57981104 0.57459457 0.38214099 0.11681871 0.49541629 0.69575439\n",
            "  0.68165299 0.77093306 0.98461611 0.46645606]\n",
            " [0.78359359 0.7091353  0.66604162 0.07203855 0.29545744 0.39868366\n",
            "  0.40149885 0.24786344 0.66262991 0.75245259]\n",
            " [0.27483712 0.7936011  0.51045598 0.55398888 0.97949019 0.91281171\n",
            "  0.73429083 0.84381366 0.43892847 0.33996817]\n",
            " [0.46670254 0.78024248 0.46578952 0.71711055 0.6512971  0.809321\n",
            "  0.09851017 0.95926872 0.51837186 0.43180655]\n",
            " [0.55584743 0.29498692 0.4991268  0.16029114 0.32336964 0.28537675\n",
            "  0.97472402 0.86045046 0.46882696 0.26491629]\n",
            " [0.39995575 0.26809752 0.28896728 0.00896655 0.84519263 0.12391005\n",
            "  0.91128347 0.5284494  0.01017427 0.84522222]\n",
            " [0.04762792 0.95388539 0.00533251 0.2362404  0.35786521 0.46812163\n",
            "  0.45925687 0.10277853 0.29683532 0.20671697]\n",
            " [0.04717424 0.66371425 0.62866399 0.58134511 0.27148234 0.69802322\n",
            "  0.88065605 0.19530924 0.60929861 0.81601504]]\n",
            "=-=-=-=-=-=-=-=-=-=-=\n",
            "[[ 0.29559332 -0.51847759  1.6156775   0.39871675  0.73126653  1.06913919\n",
            "  -0.49485964 -0.15473669  1.0927828  -0.78613887]\n",
            " [ 1.47062496  0.19868784 -2.43408348  0.5946313  -0.74965306  0.73335839\n",
            "  -1.46490617 -0.04798744  0.57170186  0.4986195 ]\n",
            " [-1.58468523  1.52772754 -1.45752562 -0.02302316  0.92378976  1.52794288\n",
            "  -1.6444816  -0.37188073  1.51339244 -0.46038318]\n",
            " [ 0.17898091 -0.86405071  1.59631312  2.42313433  0.83437156  0.59747831\n",
            "  -0.04441523 -1.07007945  0.14493167  1.08938862]\n",
            " [ 0.72081303 -0.95652929  0.38440187  1.05296074 -0.36218728  0.9513866\n",
            "  -1.1643928  -0.3851407  -0.51030453 -0.80816654]\n",
            " [ 0.86715076 -0.9542265   2.23936493  0.39794858 -0.57227511 -0.49083458\n",
            "   0.15585067  0.58352181  0.18444375 -1.38407956]\n",
            " [ 0.10944001 -0.44284665 -0.96144606 -1.01420368  0.73495322  1.40460227\n",
            "   3.0815993   0.2439651  -1.47485241 -0.52373231]\n",
            " [ 0.57455857 -0.62055017 -1.83837478 -0.58515515  0.4462224  -1.59769597\n",
            "  -0.13343976  0.62421347  1.02352792  0.74989423]\n",
            " [-0.71197041 -2.09125346 -1.88676544 -0.93302802 -0.39487446  0.58023635\n",
            "  -0.27461468  0.95284029 -0.17227144 -0.17966532]\n",
            " [ 1.00157289  0.74118044 -0.23310322 -1.69010693  0.46525799  0.97675032\n",
            "   0.38859778  0.85027526  0.12803874  1.09702571]]\n"
          ]
        }
      ]
    },
    {
      "cell_type": "code",
      "source": [
        "a = np.arange(start = 0, stop = 100, step = 1).reshape(10,10)\n",
        "print(a)"
      ],
      "metadata": {
        "colab": {
          "base_uri": "https://localhost:8080/"
        },
        "id": "pxecHYDdO1dT",
        "outputId": "230456c0-2c6e-417e-f58d-c7cede1e234b"
      },
      "execution_count": null,
      "outputs": [
        {
          "output_type": "stream",
          "name": "stdout",
          "text": [
            "[[ 0  1  2  3  4  5  6  7  8  9]\n",
            " [10 11 12 13 14 15 16 17 18 19]\n",
            " [20 21 22 23 24 25 26 27 28 29]\n",
            " [30 31 32 33 34 35 36 37 38 39]\n",
            " [40 41 42 43 44 45 46 47 48 49]\n",
            " [50 51 52 53 54 55 56 57 58 59]\n",
            " [60 61 62 63 64 65 66 67 68 69]\n",
            " [70 71 72 73 74 75 76 77 78 79]\n",
            " [80 81 82 83 84 85 86 87 88 89]\n",
            " [90 91 92 93 94 95 96 97 98 99]]\n"
          ]
        }
      ]
    },
    {
      "cell_type": "code",
      "source": [
        "print(a[5][1])"
      ],
      "metadata": {
        "colab": {
          "base_uri": "https://localhost:8080/"
        },
        "id": "blfKgPq2QQKK",
        "outputId": "48ff356d-4e09-4a0c-a9f5-0701546ba96a"
      },
      "execution_count": null,
      "outputs": [
        {
          "output_type": "stream",
          "name": "stdout",
          "text": [
            "51\n"
          ]
        }
      ]
    },
    {
      "cell_type": "code",
      "source": [
        "a_1 = a[:, :5]\n",
        "print(a_1)"
      ],
      "metadata": {
        "colab": {
          "base_uri": "https://localhost:8080/"
        },
        "id": "zG_xadUhPQox",
        "outputId": "a41d3e19-5f79-4ec5-d2fa-2d32ca020736"
      },
      "execution_count": null,
      "outputs": [
        {
          "output_type": "stream",
          "name": "stdout",
          "text": [
            "[[ 0  1  2  3  4]\n",
            " [10 11 12 13 14]\n",
            " [20 21 22 23 24]\n",
            " [30 31 32 33 34]\n",
            " [40 41 42 43 44]\n",
            " [50 51 52 53 54]\n",
            " [60 61 62 63 64]\n",
            " [70 71 72 73 74]\n",
            " [80 81 82 83 84]\n",
            " [90 91 92 93 94]]\n"
          ]
        }
      ]
    },
    {
      "cell_type": "code",
      "source": [
        "a_2 = a[:5, :]\n",
        "print(a_2)"
      ],
      "metadata": {
        "colab": {
          "base_uri": "https://localhost:8080/"
        },
        "id": "zR1aRNa9QIfr",
        "outputId": "cbece4c7-6caf-47ab-c85c-8087a0ce4864"
      },
      "execution_count": null,
      "outputs": [
        {
          "output_type": "stream",
          "name": "stdout",
          "text": [
            "[[ 0  1  2  3  4  5  6  7  8  9]\n",
            " [10 11 12 13 14 15 16 17 18 19]\n",
            " [20 21 22 23 24 25 26 27 28 29]\n",
            " [30 31 32 33 34 35 36 37 38 39]\n",
            " [40 41 42 43 44 45 46 47 48 49]]\n"
          ]
        }
      ]
    },
    {
      "cell_type": "code",
      "source": [
        "a_3 = a[:-1, :-1]\n",
        "print(a_3)"
      ],
      "metadata": {
        "colab": {
          "base_uri": "https://localhost:8080/"
        },
        "id": "PwZxfC-UQeeF",
        "outputId": "0e7ab857-032c-49ab-cd50-fcc015ca42eb"
      },
      "execution_count": null,
      "outputs": [
        {
          "output_type": "stream",
          "name": "stdout",
          "text": [
            "[[ 0  1  2  3  4  5  6  7  8]\n",
            " [10 11 12 13 14 15 16 17 18]\n",
            " [20 21 22 23 24 25 26 27 28]\n",
            " [30 31 32 33 34 35 36 37 38]\n",
            " [40 41 42 43 44 45 46 47 48]\n",
            " [50 51 52 53 54 55 56 57 58]\n",
            " [60 61 62 63 64 65 66 67 68]\n",
            " [70 71 72 73 74 75 76 77 78]\n",
            " [80 81 82 83 84 85 86 87 88]]\n"
          ]
        }
      ]
    },
    {
      "cell_type": "code",
      "source": [
        "a = np.arange(start = 0, stop = 25, step = 1, dtype = np.float32).reshape(5,5)\n",
        "b = np.arange(start = 25, stop = 50, step = 1, dtype = np.float32).reshape(5,5)"
      ],
      "metadata": {
        "id": "WJ9jOEvnQsJK"
      },
      "execution_count": null,
      "outputs": []
    },
    {
      "cell_type": "code",
      "source": [
        "print (a + b)"
      ],
      "metadata": {
        "colab": {
          "base_uri": "https://localhost:8080/"
        },
        "id": "b4Gk2WRVRPyk",
        "outputId": "ea3610e5-40cd-4a11-c6e0-d59c669378e4"
      },
      "execution_count": null,
      "outputs": [
        {
          "output_type": "stream",
          "name": "stdout",
          "text": [
            "[[25. 27. 29. 31. 33.]\n",
            " [35. 37. 39. 41. 43.]\n",
            " [45. 47. 49. 51. 53.]\n",
            " [55. 57. 59. 61. 63.]\n",
            " [65. 67. 69. 71. 73.]]\n"
          ]
        }
      ]
    },
    {
      "cell_type": "code",
      "source": [
        "print(a - b)"
      ],
      "metadata": {
        "colab": {
          "base_uri": "https://localhost:8080/"
        },
        "id": "ah9UTXfCRR_0",
        "outputId": "b2489fa3-8c3c-4b58-d4d0-8d6a7a1d0a58"
      },
      "execution_count": null,
      "outputs": [
        {
          "output_type": "stream",
          "name": "stdout",
          "text": [
            "[[-25. -25. -25. -25. -25.]\n",
            " [-25. -25. -25. -25. -25.]\n",
            " [-25. -25. -25. -25. -25.]\n",
            " [-25. -25. -25. -25. -25.]\n",
            " [-25. -25. -25. -25. -25.]]\n"
          ]
        }
      ]
    },
    {
      "cell_type": "code",
      "source": [
        "print(a * b)"
      ],
      "metadata": {
        "colab": {
          "base_uri": "https://localhost:8080/"
        },
        "id": "bgZIaqvBRTwo",
        "outputId": "6d01733c-4bac-406c-cb1e-22d2b4506af2"
      },
      "execution_count": null,
      "outputs": [
        {
          "output_type": "stream",
          "name": "stdout",
          "text": [
            "[[   0.   26.   54.   84.  116.]\n",
            " [ 150.  186.  224.  264.  306.]\n",
            " [ 350.  396.  444.  494.  546.]\n",
            " [ 600.  656.  714.  774.  836.]\n",
            " [ 900.  966. 1034. 1104. 1176.]]\n"
          ]
        }
      ]
    },
    {
      "cell_type": "code",
      "source": [
        "print(a / b)"
      ],
      "metadata": {
        "colab": {
          "base_uri": "https://localhost:8080/"
        },
        "id": "y1x5Tyn6RVCL",
        "outputId": "68eb7e43-9b57-482e-fc90-f765a3e195cb"
      },
      "execution_count": null,
      "outputs": [
        {
          "output_type": "stream",
          "name": "stdout",
          "text": [
            "[[0.         0.03846154 0.07407407 0.10714286 0.13793103]\n",
            " [0.16666667 0.19354838 0.21875    0.24242425 0.2647059 ]\n",
            " [0.2857143  0.30555555 0.3243243  0.34210527 0.35897437]\n",
            " [0.375      0.3902439  0.4047619  0.41860464 0.4318182 ]\n",
            " [0.44444445 0.45652175 0.4680851  0.47916666 0.48979592]]\n"
          ]
        }
      ]
    },
    {
      "cell_type": "code",
      "source": [
        "print(a ** b)"
      ],
      "metadata": {
        "colab": {
          "base_uri": "https://localhost:8080/"
        },
        "id": "HotC4bIvRWu-",
        "outputId": "bb9e16b5-1940-4d4b-8b47-97245f4ccd3d"
      },
      "execution_count": null,
      "outputs": [
        {
          "output_type": "stream",
          "name": "stdout",
          "text": [
            "[[0.0000000e+00 1.0000000e+00 1.3421773e+08 2.2876793e+13 2.8823038e+17]\n",
            " [9.3132259e+20 1.3264435e+24 1.1044277e+27 6.3382530e+29 2.7812839e+32]\n",
            " [1.0000000e+35 3.0912682e+37           inf           inf           inf]\n",
            " [          inf           inf           inf           inf           inf]\n",
            " [          inf           inf           inf           inf           inf]]\n"
          ]
        },
        {
          "output_type": "stream",
          "name": "stderr",
          "text": [
            "<ipython-input-45-deb161ed0c79>:1: RuntimeWarning: overflow encountered in power\n",
            "  print(a ** b)\n"
          ]
        }
      ]
    },
    {
      "cell_type": "code",
      "source": [
        "print(a.transpose())"
      ],
      "metadata": {
        "colab": {
          "base_uri": "https://localhost:8080/"
        },
        "id": "Zduq3I5PRYGg",
        "outputId": "c661c75c-6eda-406c-88d4-2b1a1222c947"
      },
      "execution_count": null,
      "outputs": [
        {
          "output_type": "stream",
          "name": "stdout",
          "text": [
            "[[ 0.  5. 10. 15. 20.]\n",
            " [ 1.  6. 11. 16. 21.]\n",
            " [ 2.  7. 12. 17. 22.]\n",
            " [ 3.  8. 13. 18. 23.]\n",
            " [ 4.  9. 14. 19. 24.]]\n"
          ]
        }
      ]
    },
    {
      "cell_type": "code",
      "source": [
        "print(a.trace())"
      ],
      "metadata": {
        "colab": {
          "base_uri": "https://localhost:8080/"
        },
        "id": "c3bcErrRReFb",
        "outputId": "989ace7c-7fa3-4392-abbe-5666588f8283"
      },
      "execution_count": null,
      "outputs": [
        {
          "output_type": "stream",
          "name": "stdout",
          "text": [
            "60.0\n"
          ]
        }
      ]
    },
    {
      "cell_type": "code",
      "source": [
        "print( a @ b)"
      ],
      "metadata": {
        "colab": {
          "base_uri": "https://localhost:8080/"
        },
        "id": "S-GspA_cRg1i",
        "outputId": "120421cd-1f64-4c45-e22b-fd35e7b1515d"
      },
      "execution_count": null,
      "outputs": [
        {
          "output_type": "stream",
          "name": "stdout",
          "text": [
            "[[ 400.  410.  420.  430.  440.]\n",
            " [1275. 1310. 1345. 1380. 1415.]\n",
            " [2150. 2210. 2270. 2330. 2390.]\n",
            " [3025. 3110. 3195. 3280. 3365.]\n",
            " [3900. 4010. 4120. 4230. 4340.]]\n"
          ]
        }
      ]
    },
    {
      "cell_type": "code",
      "source": [
        "print(np.matmul(a,b))"
      ],
      "metadata": {
        "colab": {
          "base_uri": "https://localhost:8080/"
        },
        "id": "EgHZCtPQRrjs",
        "outputId": "7a617991-2ee6-4272-f635-dcf08ce41321"
      },
      "execution_count": null,
      "outputs": [
        {
          "output_type": "stream",
          "name": "stdout",
          "text": [
            "[[ 400.  410.  420.  430.  440.]\n",
            " [1275. 1310. 1345. 1380. 1415.]\n",
            " [2150. 2210. 2270. 2330. 2390.]\n",
            " [3025. 3110. 3195. 3280. 3365.]\n",
            " [3900. 4010. 4120. 4230. 4340.]]\n"
          ]
        }
      ]
    },
    {
      "cell_type": "code",
      "source": [
        "a = np.array([[1,2],[3,4]])\n",
        "b = np.array([[1,2],[3,4]])\n",
        "\n",
        "print(a == b)"
      ],
      "metadata": {
        "colab": {
          "base_uri": "https://localhost:8080/"
        },
        "id": "P7Yov62gTHSz",
        "outputId": "0a24ffef-c71b-4487-f628-a56fb5d62e8f"
      },
      "execution_count": null,
      "outputs": [
        {
          "output_type": "stream",
          "name": "stdout",
          "text": [
            "[[ True  True]\n",
            " [ True  True]]\n"
          ]
        }
      ]
    },
    {
      "cell_type": "code",
      "source": [
        "I = np.eye(N = 10)\n",
        "I_t = I.transpose()\n",
        "\n",
        "print(I == I_t)"
      ],
      "metadata": {
        "colab": {
          "base_uri": "https://localhost:8080/"
        },
        "id": "plSThXYrTQxC",
        "outputId": "bd0d7e53-8129-48d9-9d69-6ae3d76f8b03"
      },
      "execution_count": null,
      "outputs": [
        {
          "output_type": "stream",
          "name": "stdout",
          "text": [
            "[[ True  True  True  True  True  True  True  True  True  True]\n",
            " [ True  True  True  True  True  True  True  True  True  True]\n",
            " [ True  True  True  True  True  True  True  True  True  True]\n",
            " [ True  True  True  True  True  True  True  True  True  True]\n",
            " [ True  True  True  True  True  True  True  True  True  True]\n",
            " [ True  True  True  True  True  True  True  True  True  True]\n",
            " [ True  True  True  True  True  True  True  True  True  True]\n",
            " [ True  True  True  True  True  True  True  True  True  True]\n",
            " [ True  True  True  True  True  True  True  True  True  True]\n",
            " [ True  True  True  True  True  True  True  True  True  True]]\n"
          ]
        }
      ]
    },
    {
      "cell_type": "code",
      "source": [
        "a = np.array([[4,3], [3,2]])\n",
        "a_inverse = np.linalg.inv(a)"
      ],
      "metadata": {
        "id": "e74RRn0vTcSW"
      },
      "execution_count": null,
      "outputs": []
    },
    {
      "cell_type": "code",
      "source": [
        "print(a_inverse)"
      ],
      "metadata": {
        "colab": {
          "base_uri": "https://localhost:8080/"
        },
        "id": "zVRla0o0Ty28",
        "outputId": "a8576f83-f6c1-4ea0-bdec-b8c0d63cfcbb"
      },
      "execution_count": null,
      "outputs": [
        {
          "output_type": "stream",
          "name": "stdout",
          "text": [
            "[[-2.  3.]\n",
            " [ 3. -4.]]\n"
          ]
        }
      ]
    },
    {
      "cell_type": "code",
      "source": [
        "print(a @ a_inverse)"
      ],
      "metadata": {
        "colab": {
          "base_uri": "https://localhost:8080/"
        },
        "id": "HIm0QzCjUL-P",
        "outputId": "c2537929-8a98-4e03-beb0-8de44efa67c8"
      },
      "execution_count": null,
      "outputs": [
        {
          "output_type": "stream",
          "name": "stdout",
          "text": [
            "[[1. 0.]\n",
            " [0. 1.]]\n"
          ]
        }
      ]
    },
    {
      "cell_type": "code",
      "source": [
        "x = np.array([1,2,3])\n",
        "y = np.array([3,5,1])\n",
        "\n",
        "plt.plot(x,y, color = \"red\")\n",
        "plt.xlabel(\"x\")\n",
        "plt.ylabel(\"y\")\n",
        "plt.title(\"Sample\")\n",
        "plt.show()"
      ],
      "metadata": {
        "colab": {
          "base_uri": "https://localhost:8080/",
          "height": 472
        },
        "id": "mb9NnTa1UP3b",
        "outputId": "cf06e3e8-9925-4671-ebdc-6e12e4afdd34"
      },
      "execution_count": null,
      "outputs": [
        {
          "output_type": "display_data",
          "data": {
            "text/plain": [
              "<Figure size 640x480 with 1 Axes>"
            ],
            "image/png": "[encoded data removed]"
          },
          "metadata": {}
        }
      ]
    },
    {
      "cell_type": "code",
      "source": [
        "x = np.arange(start = 0, stop = 10, step = 0.1)\n",
        "y_1 = np.sin(x)\n",
        "y_2 = np.cos(x)\n",
        "\n",
        "\n",
        "plt.plot(x, y_1, label = \"sin\", color = \"red\")\n",
        "plt.plot(x, y_2, label = \"cos\", color = \"blue\")\n",
        "plt.xlabel(\"x\")\n",
        "plt.ylabel(\"y\")\n",
        "plt.grid()\n",
        "plt.legend()\n",
        "plt.show()"
      ],
      "metadata": {
        "colab": {
          "base_uri": "https://localhost:8080/",
          "height": 449
        },
        "id": "EpFz3LpUUqor",
        "outputId": "da24af3a-f4b6-407d-bad1-f5acc82b285d"
      },
      "execution_count": null,
      "outputs": [
        {
          "output_type": "display_data",
          "data": {
            "text/plain": [
              "<Figure size 640x480 with 1 Axes>"
            ],
            "image/png": "[encoded data removed]"
          },
          "metadata": {}
        }
      ]
    },
    {
      "cell_type": "code",
      "source": [
        "x = np.arange(start = 0, stop = 10, step = 0.1)\n",
        "y_1 = np.sin(x)\n",
        "y_2 = np.cos(x)\n",
        "\n",
        "plt.subplot(1,2,1)\n",
        "plt.plot(x, y_1, label = \"sin\", color = \"red\")\n",
        "plt.subplot(1,2,2)\n",
        "plt.plot(x, y_2, label = \"cos\", color = \"blue\")\n",
        "plt.show()"
      ],
      "metadata": {
        "colab": {
          "base_uri": "https://localhost:8080/",
          "height": 430
        },
        "id": "qVuN26iqWID8",
        "outputId": "4ab2469c-6a0e-4c1a-dd10-09d7bd95dbc3"
      },
      "execution_count": null,
      "outputs": [
        {
          "output_type": "display_data",
          "data": {
            "text/plain": [
              "<Figure size 640x480 with 2 Axes>"
            ],
            "image/png": "[encoded data removed]"
          },
          "metadata": {}
        }
      ]
    },
    {
      "cell_type": "code",
      "source": [
        "r2 = np.random.randn(1000)\n",
        "\n",
        "plt.hist(r2, bins = 50)\n",
        "plt.title(\"Normal Dist\")\n",
        "plt.show()"
      ],
      "metadata": {
        "colab": {
          "base_uri": "https://localhost:8080/",
          "height": 452
        },
        "id": "OImQ6eXCWYWU",
        "outputId": "ed92ea23-9a3a-4b8f-f1d4-1886378d3185"
      },
      "execution_count": null,
      "outputs": [
        {
          "output_type": "display_data",
          "data": {
            "text/plain": [
              "<Figure size 640x480 with 1 Axes>"
            ],
            "image/png": "[encoded data removed]"
          },
          "metadata": {}
        }
      ]
    },
    {
      "cell_type": "code",
      "source": [
        "print(r2.mean())\n",
        "print(r2.std())\n",
        "print(r2.var())"
      ],
      "metadata": {
        "colab": {
          "base_uri": "https://localhost:8080/"
        },
        "id": "6CxVTjS7WnAt",
        "outputId": "1446cde3-8dc3-4366-9634-fffe7c9e5c69"
      },
      "execution_count": null,
      "outputs": [
        {
          "output_type": "stream",
          "name": "stdout",
          "text": [
            "-0.03638027460157081\n",
            "1.0189572050810698\n",
            "1.038273785786625\n"
          ]
        }
      ]
    },
    {
      "cell_type": "code",
      "source": [
        "r1 = np.random.normal(loc = 10, scale = 2, size = 10000)\n",
        "r2 = np.random.normal(loc = 5, scale = 1, size = 10000)\n",
        "\n",
        "plt.hist(r1, bins = 50, color = \"red\")\n",
        "plt.hist(r2, bins = 50, color = \"blue\")\n",
        "plt.show()"
      ],
      "metadata": {
        "colab": {
          "base_uri": "https://localhost:8080/",
          "height": 430
        },
        "id": "WWPg5NTfWwb7",
        "outputId": "252ebef5-7e96-403f-9507-d9d0a221fd4c"
      },
      "execution_count": null,
      "outputs": [
        {
          "output_type": "display_data",
          "data": {
            "text/plain": [
              "<Figure size 640x480 with 1 Axes>"
            ],
            "image/png": "[encoded data removed]"
          },
          "metadata": {}
        }
      ]
    },
    {
      "cell_type": "code",
      "source": [
        "def mmd(p,q):\n",
        "  return p.mean() - q.mean()"
      ],
      "metadata": {
        "id": "Eqrt3zfCYdyh"
      },
      "execution_count": null,
      "outputs": []
    },
    {
      "cell_type": "code",
      "source": [
        "print(mmd(r1, r2))"
      ],
      "metadata": {
        "colab": {
          "base_uri": "https://localhost:8080/"
        },
        "id": "lyYBXxzjY1ns",
        "outputId": "a32d8bb7-4646-429a-d68a-2b43f2e4f1c0"
      },
      "execution_count": null,
      "outputs": [
        {
          "output_type": "stream",
          "name": "stdout",
          "text": [
            "4.9697492646902255\n"
          ]
        }
      ]
    },
    {
      "cell_type": "code",
      "source": [
        "def mmcd(p,q):\n",
        "  return (p.mean() - q.mean()) + (np.cov(p) - np.cov(q))"
      ],
      "metadata": {
        "id": "BGDWqCUQY4xD"
      },
      "execution_count": null,
      "outputs": []
    },
    {
      "cell_type": "code",
      "source": [
        "print(mmcd(r1, r2))"
      ],
      "metadata": {
        "colab": {
          "base_uri": "https://localhost:8080/"
        },
        "id": "loMH7WZUZUU1",
        "outputId": "a7403228-0f8c-45a6-df3d-aaf4d408dd62"
      },
      "execution_count": null,
      "outputs": [
        {
          "output_type": "stream",
          "name": "stdout",
          "text": [
            "7.989755668750016\n"
          ]
        }
      ]
    }
  ]
}