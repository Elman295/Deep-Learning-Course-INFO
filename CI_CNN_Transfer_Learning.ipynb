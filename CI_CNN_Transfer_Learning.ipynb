{
  "nbformat": 4,
  "nbformat_minor": 0,
  "metadata": {
    "colab": {
      "provenance": [],
      "authorship_tag": "ABX9TyNMWaZAvSuxyrsEbHusgESv",
      "include_colab_link": true
    },
    "kernelspec": {
      "name": "python3",
      "display_name": "Python 3"
    },
    "language_info": {
      "name": "python"
    }
  },
  "cells": [
    {
      "cell_type": "markdown",
      "metadata": {
        "id": "view-in-github",
        "colab_type": "text"
      },
      "source": [
        "<a href=\"https://colab.research.google.com/github/Elman295/Deep-Learning-Course-INFO/blob/main/CI_CNN_Transfer_Learning.ipynb\" target=\"_parent\"><img src=\"https://colab.research.google.com/assets/colab-badge.svg\" alt=\"Open In Colab\"/></a>"
      ]
    },
    {
      "cell_type": "code",
      "execution_count": 23,
      "metadata": {
        "id": "Tr94YqnD-MIS"
      },
      "outputs": [],
      "source": [
        "import numpy as np\n",
        "import matplotlib.pyplot as plt\n",
        "import zipfile\n",
        "import os\n",
        "\n",
        "\n",
        "import torch\n",
        "import torchvision\n",
        "from torchvision import datasets\n",
        "from torchvision import transforms\n",
        "from torchsummary import summary\n",
        "from torchvision import models\n",
        "from torch import nn\n",
        "import torch.nn.functional as F\n",
        "from torch.utils.data import DataLoader"
      ]
    },
    {
      "cell_type": "code",
      "source": [
        "tfms = transforms.Compose([\n",
        "\n",
        "        transforms.ToTensor(),\n",
        "        transforms.Normalize(mean = 0.5, std = 0.5)\n",
        "])"
      ],
      "metadata": {
        "id": "ooGNvfBK_Op3"
      },
      "execution_count": 3,
      "outputs": []
    },
    {
      "cell_type": "code",
      "source": [
        "train_ds = datasets.MNIST(\n",
        "\n",
        "        root = \"data\",\n",
        "        download = True,\n",
        "        train = True,\n",
        "        transform = tfms\n",
        ")\n",
        "\n",
        "test_ds = datasets.MNIST(\n",
        "    root = \"data\",\n",
        "    download = True,\n",
        "    train = False,\n",
        "    transform = tfms\n",
        ")"
      ],
      "metadata": {
        "colab": {
          "base_uri": "https://localhost:8080/"
        },
        "id": "yRWd5K8A-0OY",
        "outputId": "978e0503-f13a-4b2b-aca5-0a0c2a5a4240"
      },
      "execution_count": 4,
      "outputs": [
        {
          "output_type": "stream",
          "name": "stdout",
          "text": [
            "Downloading http://yann.lecun.com/exdb/mnist/train-images-idx3-ubyte.gz\n",
            "Downloading http://yann.lecun.com/exdb/mnist/train-images-idx3-ubyte.gz to data/MNIST/raw/train-images-idx3-ubyte.gz\n"
          ]
        },
        {
          "output_type": "stream",
          "name": "stderr",
          "text": [
            "100%|██████████| 9912422/9912422 [00:00<00:00, 66486671.30it/s]\n"
          ]
        },
        {
          "output_type": "stream",
          "name": "stdout",
          "text": [
            "Extracting data/MNIST/raw/train-images-idx3-ubyte.gz to data/MNIST/raw\n",
            "\n",
            "Downloading http://yann.lecun.com/exdb/mnist/train-labels-idx1-ubyte.gz\n",
            "Downloading http://yann.lecun.com/exdb/mnist/train-labels-idx1-ubyte.gz to data/MNIST/raw/train-labels-idx1-ubyte.gz\n"
          ]
        },
        {
          "output_type": "stream",
          "name": "stderr",
          "text": [
            "100%|██████████| 28881/28881 [00:00<00:00, 70345931.37it/s]"
          ]
        },
        {
          "output_type": "stream",
          "name": "stdout",
          "text": [
            "Extracting data/MNIST/raw/train-labels-idx1-ubyte.gz to data/MNIST/raw\n",
            "\n",
            "Downloading http://yann.lecun.com/exdb/mnist/t10k-images-idx3-ubyte.gz\n",
            "Downloading http://yann.lecun.com/exdb/mnist/t10k-images-idx3-ubyte.gz to data/MNIST/raw/t10k-images-idx3-ubyte.gz\n"
          ]
        },
        {
          "output_type": "stream",
          "name": "stderr",
          "text": [
            "\n",
            "100%|██████████| 1648877/1648877 [00:00<00:00, 24131740.56it/s]\n"
          ]
        },
        {
          "output_type": "stream",
          "name": "stdout",
          "text": [
            "Extracting data/MNIST/raw/t10k-images-idx3-ubyte.gz to data/MNIST/raw\n",
            "\n",
            "Downloading http://yann.lecun.com/exdb/mnist/t10k-labels-idx1-ubyte.gz\n",
            "Downloading http://yann.lecun.com/exdb/mnist/t10k-labels-idx1-ubyte.gz to data/MNIST/raw/t10k-labels-idx1-ubyte.gz\n"
          ]
        },
        {
          "output_type": "stream",
          "name": "stderr",
          "text": [
            "100%|██████████| 4542/4542 [00:00<00:00, 27176217.93it/s]\n"
          ]
        },
        {
          "output_type": "stream",
          "name": "stdout",
          "text": [
            "Extracting data/MNIST/raw/t10k-labels-idx1-ubyte.gz to data/MNIST/raw\n",
            "\n"
          ]
        }
      ]
    },
    {
      "cell_type": "code",
      "source": [
        "train_dl = DataLoader(train_ds, batch_size = 32, shuffle = True)\n",
        "\n",
        "test_dl = DataLoader(test_ds, batch_size = 32, shuffle = False)"
      ],
      "metadata": {
        "id": "dVoKFiEU_m-t"
      },
      "execution_count": 5,
      "outputs": []
    },
    {
      "cell_type": "code",
      "source": [
        "train_dl.dataset"
      ],
      "metadata": {
        "colab": {
          "base_uri": "https://localhost:8080/"
        },
        "id": "3qevUV4F_0bY",
        "outputId": "94b3faa1-6577-441f-870b-1845747682bd"
      },
      "execution_count": 6,
      "outputs": [
        {
          "output_type": "execute_result",
          "data": {
            "text/plain": [
              "Dataset MNIST\n",
              "    Number of datapoints: 60000\n",
              "    Root location: data\n",
              "    Split: Train\n",
              "    StandardTransform\n",
              "Transform: Compose(\n",
              "               ToTensor()\n",
              "               Normalize(mean=0.5, std=0.5)\n",
              "           )"
            ]
          },
          "metadata": {},
          "execution_count": 6
        }
      ]
    },
    {
      "cell_type": "code",
      "source": [
        "images, labels = next(iter(train_dl))\n",
        "outs = torchvision.utils.make_grid(tensor = images)\n",
        "\n",
        "plt.imshow(np.transpose(outs,(1,2,0)))\n",
        "plt.axis(\"off\")\n",
        "plt.show()"
      ],
      "metadata": {
        "colab": {
          "base_uri": "https://localhost:8080/",
          "height": 325
        },
        "id": "276dY9F3_2M6",
        "outputId": "ccb9872b-292f-4489-e3bb-fdd47c6c51f8"
      },
      "execution_count": 8,
      "outputs": [
        {
          "output_type": "stream",
          "name": "stderr",
          "text": [
            "WARNING:matplotlib.image:Clipping input data to the valid range for imshow with RGB data ([0..1] for floats or [0..255] for integers).\n"
          ]
        },
        {
          "output_type": "display_data",
          "data": {
            "text/plain": [
              "<Figure size 640x480 with 1 Axes>"
            ],
            "image/png": "[encoded data removed]"
          },
          "metadata": {}
        }
      ]
    },
    {
      "cell_type": "markdown",
      "source": [
        "#`LeNet`"
      ],
      "metadata": {
        "id": "dnz_N1KTAjLc"
      }
    },
    {
      "cell_type": "markdown",
      "source": [
        "![image.png](data:image/png;base64,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)"
      ],
      "metadata": {
        "id": "tbjnp237AcrU"
      }
    },
    {
      "cell_type": "code",
      "source": [
        "class LeNet(nn.Module):\n",
        "\n",
        "  def __init__(self):\n",
        "    super(LeNet, self).__init__()\n",
        "    self.conv1 = nn.Conv2d(1,6,5, padding=2)\n",
        "    self.conv2 = nn.Conv2d(6,16,5)\n",
        "    self.fc_1 = nn.Linear(16*5*5, 120)\n",
        "    self.fc_2 = nn.Linear(120, 84)\n",
        "    self.fc_3 = nn.Linear(84, 10)\n",
        "\n",
        "  def forward(self, x):\n",
        "    x = F.avg_pool2d(F.sigmoid(self.conv1(x)),(2,2))\n",
        "    x = F.avg_pool2d(F.sigmoid(self.conv2(x)),(2,2))\n",
        "    x = x.view((-1,16*5*5))\n",
        "    x = F.sigmoid(self.fc_1(x))\n",
        "    x = F.sigmoid(self.fc_2(x))\n",
        "    x = self.fc_3(x)\n",
        "    return x\n"
      ],
      "metadata": {
        "id": "aQV8CA2FAIlk"
      },
      "execution_count": 11,
      "outputs": []
    },
    {
      "cell_type": "code",
      "source": [
        "lenet =LeNet()"
      ],
      "metadata": {
        "id": "y6u2bLjXBu0G"
      },
      "execution_count": 13,
      "outputs": []
    },
    {
      "cell_type": "code",
      "source": [
        "summary(lenet, input_size = (1,28,28), batch_size = 32)"
      ],
      "metadata": {
        "colab": {
          "base_uri": "https://localhost:8080/"
        },
        "id": "c5a118fBCSEz",
        "outputId": "f1abdb05-8907-436b-baa8-4371106bc3e2"
      },
      "execution_count": 14,
      "outputs": [
        {
          "output_type": "stream",
          "name": "stdout",
          "text": [
            "----------------------------------------------------------------\n",
            "        Layer (type)               Output Shape         Param #\n",
            "================================================================\n",
            "            Conv2d-1            [32, 6, 28, 28]             156\n",
            "            Conv2d-2           [32, 16, 10, 10]           2,416\n",
            "            Linear-3                  [32, 120]          48,120\n",
            "            Linear-4                   [32, 84]          10,164\n",
            "            Linear-5                   [32, 10]             850\n",
            "================================================================\n",
            "Total params: 61,706\n",
            "Trainable params: 61,706\n",
            "Non-trainable params: 0\n",
            "----------------------------------------------------------------\n",
            "Input size (MB): 0.10\n",
            "Forward/backward pass size (MB): 1.59\n",
            "Params size (MB): 0.24\n",
            "Estimated Total Size (MB): 1.92\n",
            "----------------------------------------------------------------\n"
          ]
        }
      ]
    },
    {
      "cell_type": "code",
      "source": [
        "def train(dataloader, model, loss_fn, op_fn):\n",
        "  size = len(dataloader.dataset)\n",
        "  model.train()\n",
        "  for batch, (x,y) in enumerate(dataloader):\n",
        "    y_pred = model(x)\n",
        "    loss = loss_fn(y_pred, y)\n",
        "\n",
        "    op_fn.zero_grad()\n",
        "    loss.backward()\n",
        "    op_fn.step()\n",
        "\n",
        "    if batch % 100 ==0:\n",
        "      loss, current = loss.item(), batch * len(x)\n",
        "      print(f\"loss is {loss}  [{current} / {size}]\")"
      ],
      "metadata": {
        "id": "B19lfpZ2CXcl"
      },
      "execution_count": 15,
      "outputs": []
    },
    {
      "cell_type": "code",
      "source": [
        "def test(dataloader, model, loss_fn):\n",
        "\n",
        "  size = len(dataloader.dataset)\n",
        "  num_batches = len(dataloader)\n",
        "  model.eval()\n",
        "  correct, test_loss = 0,0\n",
        "  with torch.no_grad():\n",
        "    for x,y in dataloader:\n",
        "      y_pred = model(x)\n",
        "      test_loss += loss_fn(y_pred, y).item()\n",
        "      correct += (y_pred.argmax(1) == y).type(torch.float).sum().item()\n",
        "  test_loss /= num_batches\n",
        "  correct /= size\n",
        "  print(f\"accuracy is {correct*100} test_loss is {test_loss}\")"
      ],
      "metadata": {
        "id": "lcAwkBmaCg2t"
      },
      "execution_count": 16,
      "outputs": []
    },
    {
      "cell_type": "code",
      "source": [
        "\n",
        "loss_function = nn.CrossEntropyLoss()\n",
        "\n",
        "optimizer_function = torch.optim.Adam(lenet.parameters(), lr = 1e-3)"
      ],
      "metadata": {
        "id": "5ZBab62NCk0i"
      },
      "execution_count": 17,
      "outputs": []
    },
    {
      "cell_type": "code",
      "source": [
        "EPOCHS = 20\n",
        "\n",
        "for epochs in range(EPOCHS):\n",
        "  print(f\"epoch: {epochs+1} ---------------------------\")\n",
        "  train(train_dl, lenet, loss_function, optimizer_function)\n",
        "  test(test_dl, lenet, loss_function)\n",
        "\n",
        "print('DONE')"
      ],
      "metadata": {
        "colab": {
          "base_uri": "https://localhost:8080/"
        },
        "id": "F_oyKKFQCpj4",
        "outputId": "67c0626b-c0b4-4f93-977e-5e7a4bac8e6f"
      },
      "execution_count": 18,
      "outputs": [
        {
          "output_type": "stream",
          "name": "stdout",
          "text": [
            "epoch: 1 ---------------------------\n",
            "loss is 2.3925461769104004  [0 / 60000]\n",
            "loss is 2.3375775814056396  [3200 / 60000]\n",
            "loss is 2.2584266662597656  [6400 / 60000]\n",
            "loss is 1.582751989364624  [9600 / 60000]\n",
            "loss is 1.0771687030792236  [12800 / 60000]\n",
            "loss is 0.5383689403533936  [16000 / 60000]\n",
            "loss is 0.5707240104675293  [19200 / 60000]\n",
            "loss is 0.3510250151157379  [22400 / 60000]\n",
            "loss is 0.34435155987739563  [25600 / 60000]\n",
            "loss is 0.22074885666370392  [28800 / 60000]\n",
            "loss is 0.3420306146144867  [32000 / 60000]\n",
            "loss is 0.2575947940349579  [35200 / 60000]\n",
            "loss is 0.3858243227005005  [38400 / 60000]\n",
            "loss is 0.3020856976509094  [41600 / 60000]\n",
            "loss is 0.41980817914009094  [44800 / 60000]\n",
            "loss is 0.28874945640563965  [48000 / 60000]\n",
            "loss is 0.4482291340827942  [51200 / 60000]\n",
            "loss is 0.2837064266204834  [54400 / 60000]\n",
            "loss is 0.33576735854148865  [57600 / 60000]\n",
            "accuracy is 93.87 test_loss is 0.2009925433812431\n",
            "epoch: 2 ---------------------------\n",
            "loss is 0.09584303945302963  [0 / 60000]\n",
            "loss is 0.5255534052848816  [3200 / 60000]\n",
            "loss is 0.13130833208560944  [6400 / 60000]\n",
            "loss is 0.09691975265741348  [9600 / 60000]\n",
            "loss is 0.2736491560935974  [12800 / 60000]\n",
            "loss is 0.33794862031936646  [16000 / 60000]\n",
            "loss is 0.06043402850627899  [19200 / 60000]\n",
            "loss is 0.11298571527004242  [22400 / 60000]\n",
            "loss is 0.33967819809913635  [25600 / 60000]\n",
            "loss is 0.2548156678676605  [28800 / 60000]\n",
            "loss is 0.43925848603248596  [32000 / 60000]\n",
            "loss is 0.13788528740406036  [35200 / 60000]\n",
            "loss is 0.20865516364574432  [38400 / 60000]\n",
            "loss is 0.35631608963012695  [41600 / 60000]\n",
            "loss is 0.11751774698495865  [44800 / 60000]\n",
            "loss is 0.04234091937541962  [48000 / 60000]\n",
            "loss is 0.11334428191184998  [51200 / 60000]\n",
            "loss is 0.21395602822303772  [54400 / 60000]\n",
            "loss is 0.2342022955417633  [57600 / 60000]\n",
            "accuracy is 96.21 test_loss is 0.12471977552732293\n",
            "epoch: 3 ---------------------------\n",
            "loss is 0.12245596200227737  [0 / 60000]\n",
            "loss is 0.08159106224775314  [3200 / 60000]\n",
            "loss is 0.13062964379787445  [6400 / 60000]\n",
            "loss is 0.07493906468153  [9600 / 60000]\n",
            "loss is 0.10710404068231583  [12800 / 60000]\n",
            "loss is 0.13914845883846283  [16000 / 60000]\n",
            "loss is 0.041145648807287216  [19200 / 60000]\n",
            "loss is 0.3228886127471924  [22400 / 60000]\n",
            "loss is 0.053501736372709274  [25600 / 60000]\n",
            "loss is 0.19475045800209045  [28800 / 60000]\n",
            "loss is 0.09993618726730347  [32000 / 60000]\n",
            "loss is 0.13053756952285767  [35200 / 60000]\n",
            "loss is 0.2801593244075775  [38400 / 60000]\n",
            "loss is 0.022531768307089806  [41600 / 60000]\n",
            "loss is 0.057117149233818054  [44800 / 60000]\n",
            "loss is 0.019252121448516846  [48000 / 60000]\n",
            "loss is 0.10969562828540802  [51200 / 60000]\n",
            "loss is 0.18194757401943207  [54400 / 60000]\n",
            "loss is 0.06443729251623154  [57600 / 60000]\n",
            "accuracy is 97.15 test_loss is 0.09321638606577969\n",
            "epoch: 4 ---------------------------\n",
            "loss is 0.13265541195869446  [0 / 60000]\n",
            "loss is 0.11903907358646393  [3200 / 60000]\n",
            "loss is 0.18297259509563446  [6400 / 60000]\n",
            "loss is 0.015123299323022366  [9600 / 60000]\n",
            "loss is 0.11306661367416382  [12800 / 60000]\n",
            "loss is 0.01995858922600746  [16000 / 60000]\n",
            "loss is 0.11841735243797302  [19200 / 60000]\n",
            "loss is 0.02089790441095829  [22400 / 60000]\n",
            "loss is 0.11727861315011978  [25600 / 60000]\n",
            "loss is 0.058222584426403046  [28800 / 60000]\n",
            "loss is 0.041320011019706726  [32000 / 60000]\n",
            "loss is 0.05533738434314728  [35200 / 60000]\n",
            "loss is 0.11052728444337845  [38400 / 60000]\n",
            "loss is 0.022258292883634567  [41600 / 60000]\n",
            "loss is 0.004568863194435835  [44800 / 60000]\n",
            "loss is 0.23752820491790771  [48000 / 60000]\n",
            "loss is 0.07130853086709976  [51200 / 60000]\n",
            "loss is 0.1323419064283371  [54400 / 60000]\n",
            "loss is 0.017526620998978615  [57600 / 60000]\n",
            "accuracy is 97.74000000000001 test_loss is 0.07068556459797636\n",
            "epoch: 5 ---------------------------\n",
            "loss is 0.2769048511981964  [0 / 60000]\n",
            "loss is 0.0035971440374851227  [3200 / 60000]\n",
            "loss is 0.05866551026701927  [6400 / 60000]\n",
            "loss is 0.17897483706474304  [9600 / 60000]\n",
            "loss is 0.0221098680049181  [12800 / 60000]\n",
            "loss is 0.08213748037815094  [16000 / 60000]\n",
            "loss is 0.033379338681697845  [19200 / 60000]\n",
            "loss is 0.21686211228370667  [22400 / 60000]\n",
            "loss is 0.0516999289393425  [25600 / 60000]\n",
            "loss is 0.04870914667844772  [28800 / 60000]\n",
            "loss is 0.19015225768089294  [32000 / 60000]\n",
            "loss is 0.0101082194596529  [35200 / 60000]\n",
            "loss is 0.012485976330935955  [38400 / 60000]\n",
            "loss is 0.22553978860378265  [41600 / 60000]\n",
            "loss is 0.20203271508216858  [44800 / 60000]\n",
            "loss is 0.041953783482313156  [48000 / 60000]\n",
            "loss is 0.009517263621091843  [51200 / 60000]\n",
            "loss is 0.010297553613781929  [54400 / 60000]\n",
            "loss is 0.009542185813188553  [57600 / 60000]\n",
            "accuracy is 98.04 test_loss is 0.06150999809998406\n",
            "epoch: 6 ---------------------------\n",
            "loss is 0.008334257639944553  [0 / 60000]\n",
            "loss is 0.059603188186883926  [3200 / 60000]\n",
            "loss is 0.004701818339526653  [6400 / 60000]\n",
            "loss is 0.049469709396362305  [9600 / 60000]\n",
            "loss is 0.01142517663538456  [12800 / 60000]\n",
            "loss is 0.005183168686926365  [16000 / 60000]\n",
            "loss is 0.1953180432319641  [19200 / 60000]\n",
            "loss is 0.06708915531635284  [22400 / 60000]\n",
            "loss is 0.060201242566108704  [25600 / 60000]\n",
            "loss is 0.006313943304121494  [28800 / 60000]\n",
            "loss is 0.03347880393266678  [32000 / 60000]\n",
            "loss is 0.01200077310204506  [35200 / 60000]\n",
            "loss is 0.012648675590753555  [38400 / 60000]\n",
            "loss is 0.026316320523619652  [41600 / 60000]\n",
            "loss is 0.1475132703781128  [44800 / 60000]\n",
            "loss is 0.023591788485646248  [48000 / 60000]\n",
            "loss is 0.18198037147521973  [51200 / 60000]\n",
            "loss is 0.021407801657915115  [54400 / 60000]\n",
            "loss is 0.0015749129233881831  [57600 / 60000]\n",
            "accuracy is 98.18 test_loss is 0.056522514498137985\n",
            "epoch: 7 ---------------------------\n",
            "loss is 0.022757569327950478  [0 / 60000]\n",
            "loss is 0.02527187578380108  [3200 / 60000]\n",
            "loss is 0.003996966872364283  [6400 / 60000]\n",
            "loss is 0.13551905751228333  [9600 / 60000]\n",
            "loss is 0.03383343294262886  [12800 / 60000]\n",
            "loss is 0.0033880549017339945  [16000 / 60000]\n",
            "loss is 0.013346674852073193  [19200 / 60000]\n",
            "loss is 0.1046517863869667  [22400 / 60000]\n",
            "loss is 0.02279699593782425  [25600 / 60000]\n",
            "loss is 0.010079199448227882  [28800 / 60000]\n",
            "loss is 0.006811616942286491  [32000 / 60000]\n",
            "loss is 0.04579043388366699  [35200 / 60000]\n",
            "loss is 0.04538840055465698  [38400 / 60000]\n",
            "loss is 0.04575828090310097  [41600 / 60000]\n",
            "loss is 0.0030661181081086397  [44800 / 60000]\n",
            "loss is 0.09479938447475433  [48000 / 60000]\n",
            "loss is 0.068414606153965  [51200 / 60000]\n",
            "loss is 0.020751476287841797  [54400 / 60000]\n",
            "loss is 0.0038223792798817158  [57600 / 60000]\n",
            "accuracy is 98.2 test_loss is 0.05261503122750664\n",
            "epoch: 8 ---------------------------\n",
            "loss is 0.003412768477573991  [0 / 60000]\n",
            "loss is 0.02585335448384285  [3200 / 60000]\n",
            "loss is 0.014207585714757442  [6400 / 60000]\n",
            "loss is 0.04010428860783577  [9600 / 60000]\n",
            "loss is 0.013818977400660515  [12800 / 60000]\n",
            "loss is 0.014253965578973293  [16000 / 60000]\n",
            "loss is 0.0755268931388855  [19200 / 60000]\n",
            "loss is 0.01530012022703886  [22400 / 60000]\n",
            "loss is 0.004783234093338251  [25600 / 60000]\n",
            "loss is 0.023144764825701714  [28800 / 60000]\n",
            "loss is 0.0029083576519042253  [32000 / 60000]\n",
            "loss is 0.08033201098442078  [35200 / 60000]\n",
            "loss is 0.015803968533873558  [38400 / 60000]\n",
            "loss is 0.08375166356563568  [41600 / 60000]\n",
            "loss is 0.014227383770048618  [44800 / 60000]\n",
            "loss is 0.017076706513762474  [48000 / 60000]\n",
            "loss is 0.01548482570797205  [51200 / 60000]\n",
            "loss is 0.011240865103900433  [54400 / 60000]\n",
            "loss is 0.01809471659362316  [57600 / 60000]\n",
            "accuracy is 98.54 test_loss is 0.04703783568704483\n",
            "epoch: 9 ---------------------------\n",
            "loss is 0.001192501513287425  [0 / 60000]\n",
            "loss is 0.05244585871696472  [3200 / 60000]\n",
            "loss is 0.0817965567111969  [6400 / 60000]\n",
            "loss is 0.026464687660336494  [9600 / 60000]\n",
            "loss is 0.01889789290726185  [12800 / 60000]\n",
            "loss is 0.07173720747232437  [16000 / 60000]\n",
            "loss is 0.02769254893064499  [19200 / 60000]\n",
            "loss is 0.006564907729625702  [22400 / 60000]\n",
            "loss is 0.015226542018353939  [25600 / 60000]\n",
            "loss is 0.008941655978560448  [28800 / 60000]\n",
            "loss is 0.009534520097076893  [32000 / 60000]\n",
            "loss is 0.1266469657421112  [35200 / 60000]\n",
            "loss is 0.014988637529313564  [38400 / 60000]\n",
            "loss is 0.03019651211798191  [41600 / 60000]\n",
            "loss is 0.10653272271156311  [44800 / 60000]\n",
            "loss is 0.16234539449214935  [48000 / 60000]\n",
            "loss is 0.0639810711145401  [51200 / 60000]\n",
            "loss is 0.0011755182640627027  [54400 / 60000]\n",
            "loss is 0.0076052239164710045  [57600 / 60000]\n",
            "accuracy is 98.42999999999999 test_loss is 0.04956977735558069\n",
            "epoch: 10 ---------------------------\n",
            "loss is 0.024114955216646194  [0 / 60000]\n",
            "loss is 0.043476659804582596  [3200 / 60000]\n",
            "loss is 0.07820045202970505  [6400 / 60000]\n",
            "loss is 0.0035928916186094284  [9600 / 60000]\n",
            "loss is 0.004321033135056496  [12800 / 60000]\n",
            "loss is 0.0034506474621593952  [16000 / 60000]\n",
            "loss is 0.011814809404313564  [19200 / 60000]\n",
            "loss is 0.014484855346381664  [22400 / 60000]\n",
            "loss is 0.009112394414842129  [25600 / 60000]\n",
            "loss is 0.058128081262111664  [28800 / 60000]\n",
            "loss is 0.026070846244692802  [32000 / 60000]\n",
            "loss is 0.06552588194608688  [35200 / 60000]\n",
            "loss is 0.32546308636665344  [38400 / 60000]\n",
            "loss is 0.005325219128280878  [41600 / 60000]\n",
            "loss is 0.009576497599482536  [44800 / 60000]\n",
            "loss is 0.05997677892446518  [48000 / 60000]\n",
            "loss is 0.009292702190577984  [51200 / 60000]\n",
            "loss is 0.003157907398417592  [54400 / 60000]\n",
            "loss is 0.12803205847740173  [57600 / 60000]\n",
            "accuracy is 98.49 test_loss is 0.045510554130426414\n",
            "epoch: 11 ---------------------------\n",
            "loss is 0.012747172266244888  [0 / 60000]\n",
            "loss is 0.018784649670124054  [3200 / 60000]\n",
            "loss is 0.011618959717452526  [6400 / 60000]\n",
            "loss is 0.0029808853287249804  [9600 / 60000]\n",
            "loss is 0.003993189428001642  [12800 / 60000]\n",
            "loss is 0.03377100080251694  [16000 / 60000]\n",
            "loss is 0.018799031153321266  [19200 / 60000]\n",
            "loss is 0.0008427914581261575  [22400 / 60000]\n",
            "loss is 0.022367430850863457  [25600 / 60000]\n",
            "loss is 0.00945807620882988  [28800 / 60000]\n",
            "loss is 0.021787026897072792  [32000 / 60000]\n",
            "loss is 0.01095285639166832  [35200 / 60000]\n",
            "loss is 0.01249559223651886  [38400 / 60000]\n",
            "loss is 0.013283458538353443  [41600 / 60000]\n",
            "loss is 0.0016125423135235906  [44800 / 60000]\n",
            "loss is 0.007214297074824572  [48000 / 60000]\n",
            "loss is 0.0007445448427461088  [51200 / 60000]\n",
            "loss is 0.09240349382162094  [54400 / 60000]\n",
            "loss is 0.016948798671364784  [57600 / 60000]\n",
            "accuracy is 98.61999999999999 test_loss is 0.042897720938825906\n",
            "epoch: 12 ---------------------------\n",
            "loss is 0.00788077525794506  [0 / 60000]\n",
            "loss is 0.004386718384921551  [3200 / 60000]\n",
            "loss is 0.15246737003326416  [6400 / 60000]\n",
            "loss is 0.013552971184253693  [9600 / 60000]\n",
            "loss is 0.003017204347997904  [12800 / 60000]\n",
            "loss is 0.014991922304034233  [16000 / 60000]\n",
            "loss is 0.1006196066737175  [19200 / 60000]\n",
            "loss is 0.011292412877082825  [22400 / 60000]\n",
            "loss is 0.01979190669953823  [25600 / 60000]\n",
            "loss is 0.0034375039394944906  [28800 / 60000]\n",
            "loss is 0.017597569152712822  [32000 / 60000]\n",
            "loss is 0.001905177952721715  [35200 / 60000]\n",
            "loss is 0.04081915691494942  [38400 / 60000]\n",
            "loss is 0.011288905516266823  [41600 / 60000]\n",
            "loss is 0.009571420028805733  [44800 / 60000]\n",
            "loss is 0.0051062460988759995  [48000 / 60000]\n",
            "loss is 0.016014574095606804  [51200 / 60000]\n",
            "loss is 0.008646111004054546  [54400 / 60000]\n",
            "loss is 0.0009559039608575404  [57600 / 60000]\n",
            "accuracy is 98.59 test_loss is 0.04309632843938662\n",
            "epoch: 13 ---------------------------\n",
            "loss is 0.004434170201420784  [0 / 60000]\n",
            "loss is 0.0019079758785665035  [3200 / 60000]\n",
            "loss is 0.0026836981996893883  [6400 / 60000]\n",
            "loss is 0.009654039517045021  [9600 / 60000]\n",
            "loss is 0.0009797923266887665  [12800 / 60000]\n",
            "loss is 0.04487263411283493  [16000 / 60000]\n",
            "loss is 0.008886910043656826  [19200 / 60000]\n",
            "loss is 0.021271130070090294  [22400 / 60000]\n",
            "loss is 0.12601232528686523  [25600 / 60000]\n",
            "loss is 0.011007359251379967  [28800 / 60000]\n",
            "loss is 0.004529070574790239  [32000 / 60000]\n",
            "loss is 0.0005242502084001899  [35200 / 60000]\n",
            "loss is 0.07192066311836243  [38400 / 60000]\n",
            "loss is 0.005369887687265873  [41600 / 60000]\n",
            "loss is 0.08513251692056656  [44800 / 60000]\n",
            "loss is 0.11458194255828857  [48000 / 60000]\n",
            "loss is 0.027774786576628685  [51200 / 60000]\n",
            "loss is 0.027645232155919075  [54400 / 60000]\n",
            "loss is 0.007675380911678076  [57600 / 60000]\n",
            "accuracy is 98.63 test_loss is 0.04159800980163674\n",
            "epoch: 14 ---------------------------\n",
            "loss is 0.02152935042977333  [0 / 60000]\n",
            "loss is 0.0017216561827808619  [3200 / 60000]\n",
            "loss is 0.0032014185562729836  [6400 / 60000]\n",
            "loss is 0.033766862004995346  [9600 / 60000]\n",
            "loss is 0.00782804936170578  [12800 / 60000]\n",
            "loss is 0.30408576130867004  [16000 / 60000]\n",
            "loss is 0.014350652694702148  [19200 / 60000]\n",
            "loss is 0.0028645519632846117  [22400 / 60000]\n",
            "loss is 0.002046928508207202  [25600 / 60000]\n",
            "loss is 0.07274467498064041  [28800 / 60000]\n",
            "loss is 0.012945333495736122  [32000 / 60000]\n",
            "loss is 0.0005071361665613949  [35200 / 60000]\n",
            "loss is 0.01895412988960743  [38400 / 60000]\n",
            "loss is 0.17951999604701996  [41600 / 60000]\n",
            "loss is 0.008583747781813145  [44800 / 60000]\n",
            "loss is 0.004700470250099897  [48000 / 60000]\n",
            "loss is 0.0026462299283593893  [51200 / 60000]\n",
            "loss is 0.04546746611595154  [54400 / 60000]\n",
            "loss is 0.05288935452699661  [57600 / 60000]\n",
            "accuracy is 98.21 test_loss is 0.054985679592807056\n",
            "epoch: 15 ---------------------------\n",
            "loss is 0.008266037330031395  [0 / 60000]\n",
            "loss is 0.0005333378212526441  [3200 / 60000]\n",
            "loss is 0.015868039801716805  [6400 / 60000]\n",
            "loss is 0.007558025419712067  [9600 / 60000]\n",
            "loss is 0.013774826191365719  [12800 / 60000]\n",
            "loss is 0.0004100266960449517  [16000 / 60000]\n",
            "loss is 0.0040030102245509624  [19200 / 60000]\n",
            "loss is 0.062086883932352066  [22400 / 60000]\n",
            "loss is 0.012657852843403816  [25600 / 60000]\n",
            "loss is 0.0065490687265992165  [28800 / 60000]\n",
            "loss is 0.0006013895617797971  [32000 / 60000]\n",
            "loss is 0.04571271687746048  [35200 / 60000]\n",
            "loss is 0.049172937870025635  [38400 / 60000]\n",
            "loss is 0.005694230552762747  [41600 / 60000]\n",
            "loss is 0.0026960582472383976  [44800 / 60000]\n",
            "loss is 0.0005286432569846511  [48000 / 60000]\n",
            "loss is 0.04769565537571907  [51200 / 60000]\n",
            "loss is 0.0032024423126131296  [54400 / 60000]\n",
            "loss is 0.011471450328826904  [57600 / 60000]\n",
            "accuracy is 98.48 test_loss is 0.04956441927142311\n",
            "epoch: 16 ---------------------------\n",
            "loss is 0.005359000992029905  [0 / 60000]\n",
            "loss is 0.009288289584219456  [3200 / 60000]\n",
            "loss is 0.0016574474284425378  [6400 / 60000]\n",
            "loss is 0.0020583525765687227  [9600 / 60000]\n",
            "loss is 0.13422957062721252  [12800 / 60000]\n",
            "loss is 0.00046242662938311696  [16000 / 60000]\n",
            "loss is 0.024087561294436455  [19200 / 60000]\n",
            "loss is 0.010941656306385994  [22400 / 60000]\n",
            "loss is 0.005577685311436653  [25600 / 60000]\n",
            "loss is 0.03169844672083855  [28800 / 60000]\n",
            "loss is 0.0012879628920927644  [32000 / 60000]\n",
            "loss is 0.012349841184914112  [35200 / 60000]\n",
            "loss is 0.0038839338812977076  [38400 / 60000]\n",
            "loss is 0.0021080784499645233  [41600 / 60000]\n",
            "loss is 0.006283090449869633  [44800 / 60000]\n",
            "loss is 0.022480424493551254  [48000 / 60000]\n",
            "loss is 0.07807029783725739  [51200 / 60000]\n",
            "loss is 0.023135216906666756  [54400 / 60000]\n",
            "loss is 0.008966428227722645  [57600 / 60000]\n",
            "accuracy is 98.67 test_loss is 0.04313925277646443\n",
            "epoch: 17 ---------------------------\n",
            "loss is 0.014439351856708527  [0 / 60000]\n",
            "loss is 0.0026443656533956528  [3200 / 60000]\n",
            "loss is 0.08544738590717316  [6400 / 60000]\n",
            "loss is 0.0574336014688015  [9600 / 60000]\n",
            "loss is 0.00019041288760490716  [12800 / 60000]\n",
            "loss is 0.007369324564933777  [16000 / 60000]\n",
            "loss is 0.11928066611289978  [19200 / 60000]\n",
            "loss is 0.004687976092100143  [22400 / 60000]\n",
            "loss is 0.00654482189565897  [25600 / 60000]\n",
            "loss is 0.005945207085460424  [28800 / 60000]\n",
            "loss is 0.0005530713242478669  [32000 / 60000]\n",
            "loss is 0.001740197534672916  [35200 / 60000]\n",
            "loss is 0.0020840666256844997  [38400 / 60000]\n",
            "loss is 0.00233643245883286  [41600 / 60000]\n",
            "loss is 0.0014893851475790143  [44800 / 60000]\n",
            "loss is 0.012320107780396938  [48000 / 60000]\n",
            "loss is 0.04068998992443085  [51200 / 60000]\n",
            "loss is 0.0016207396984100342  [54400 / 60000]\n",
            "loss is 0.022535966709256172  [57600 / 60000]\n",
            "accuracy is 98.7 test_loss is 0.04258745515085792\n",
            "epoch: 18 ---------------------------\n",
            "loss is 0.0010287499753758311  [0 / 60000]\n",
            "loss is 0.011721334420144558  [3200 / 60000]\n",
            "loss is 0.04360771179199219  [6400 / 60000]\n",
            "loss is 0.01267317496240139  [9600 / 60000]\n",
            "loss is 0.018209584057331085  [12800 / 60000]\n",
            "loss is 0.03166048601269722  [16000 / 60000]\n",
            "loss is 0.0048654344864189625  [19200 / 60000]\n",
            "loss is 0.03515893965959549  [22400 / 60000]\n",
            "loss is 0.00051994773093611  [25600 / 60000]\n",
            "loss is 0.0021342283580452204  [28800 / 60000]\n",
            "loss is 0.007016088347882032  [32000 / 60000]\n",
            "loss is 0.003835250623524189  [35200 / 60000]\n",
            "loss is 0.04903380572795868  [38400 / 60000]\n",
            "loss is 0.13834260404109955  [41600 / 60000]\n",
            "loss is 0.004740376956760883  [44800 / 60000]\n",
            "loss is 0.00033138063736259937  [48000 / 60000]\n",
            "loss is 0.0011427911231294274  [51200 / 60000]\n",
            "loss is 0.0058302562683820724  [54400 / 60000]\n",
            "loss is 0.001090624718926847  [57600 / 60000]\n",
            "accuracy is 98.83999999999999 test_loss is 0.04015109785163681\n",
            "epoch: 19 ---------------------------\n",
            "loss is 0.0006354565848596394  [0 / 60000]\n",
            "loss is 0.004539356101304293  [3200 / 60000]\n",
            "loss is 0.0006109080277383327  [6400 / 60000]\n",
            "loss is 0.01324816606938839  [9600 / 60000]\n",
            "loss is 0.002512774895876646  [12800 / 60000]\n",
            "loss is 0.002468172460794449  [16000 / 60000]\n",
            "loss is 0.04731982201337814  [19200 / 60000]\n",
            "loss is 0.0004224781005177647  [22400 / 60000]\n",
            "loss is 0.02071935124695301  [25600 / 60000]\n",
            "loss is 0.14243227243423462  [28800 / 60000]\n",
            "loss is 0.04322958365082741  [32000 / 60000]\n",
            "loss is 0.0010090538999065757  [35200 / 60000]\n",
            "loss is 0.01222226582467556  [38400 / 60000]\n",
            "loss is 0.0003846143663395196  [41600 / 60000]\n",
            "loss is 0.0030428050085902214  [44800 / 60000]\n",
            "loss is 0.00301052606664598  [48000 / 60000]\n",
            "loss is 0.0008182481396943331  [51200 / 60000]\n",
            "loss is 0.00031145161483436823  [54400 / 60000]\n",
            "loss is 0.0599704384803772  [57600 / 60000]\n",
            "accuracy is 98.76 test_loss is 0.038833891087522325\n",
            "epoch: 20 ---------------------------\n",
            "loss is 0.000609479786362499  [0 / 60000]\n",
            "loss is 0.005979619920253754  [3200 / 60000]\n",
            "loss is 0.007752328645437956  [6400 / 60000]\n",
            "loss is 0.044248491525650024  [9600 / 60000]\n",
            "loss is 0.007992614060640335  [12800 / 60000]\n",
            "loss is 0.04791555553674698  [16000 / 60000]\n",
            "loss is 0.0021342241670936346  [19200 / 60000]\n",
            "loss is 0.00195665773935616  [22400 / 60000]\n",
            "loss is 0.021034855395555496  [25600 / 60000]\n",
            "loss is 0.00010631945770001039  [28800 / 60000]\n",
            "loss is 0.017718100920319557  [32000 / 60000]\n",
            "loss is 0.00024858510005287826  [35200 / 60000]\n",
            "loss is 0.0009677365887910128  [38400 / 60000]\n",
            "loss is 0.053721535950899124  [41600 / 60000]\n",
            "loss is 0.11045197397470474  [44800 / 60000]\n",
            "loss is 0.04424067214131355  [48000 / 60000]\n",
            "loss is 0.011067455634474754  [51200 / 60000]\n",
            "loss is 0.18309932947158813  [54400 / 60000]\n",
            "loss is 0.026852820068597794  [57600 / 60000]\n",
            "accuracy is 98.64 test_loss is 0.0412453826696534\n",
            "DONE\n"
          ]
        }
      ]
    },
    {
      "cell_type": "markdown",
      "source": [
        "#`Transfer Learning`"
      ],
      "metadata": {
        "id": "vqUvfurrFxdA"
      }
    },
    {
      "cell_type": "code",
      "source": [
        "with zipfile.ZipFile(\"hymenoptera_data.zip\", \"r\") as f:\n",
        "  f.extractall(\"data_2\")"
      ],
      "metadata": {
        "id": "0EhWbmd-Cx5l"
      },
      "execution_count": 22,
      "outputs": []
    },
    {
      "cell_type": "code",
      "source": [
        "train_path = os.path.join(\"data_2\", \"hymenoptera_data\", \"train\")\n",
        "test_path = os.path.join(\"data_2\", \"hymenoptera_data\", \"val\")"
      ],
      "metadata": {
        "id": "5c3AGZ8GHT7U"
      },
      "execution_count": 27,
      "outputs": []
    },
    {
      "cell_type": "code",
      "source": [
        "tfms_hym = transforms.Compose([\n",
        "\n",
        "        transforms.Resize(size = (100,100)),\n",
        "        transforms.ToTensor(),\n",
        "        transforms.Normalize(mean = (0.5,0.5,0.5), std = (0.2,0.2,0.2))\n",
        "])"
      ],
      "metadata": {
        "id": "D5I8e3-SHzEG"
      },
      "execution_count": 34,
      "outputs": []
    },
    {
      "cell_type": "code",
      "source": [
        "train_ds = datasets.ImageFolder(\n",
        "\n",
        "      root = train_path,\n",
        "      transform = tfms_hym\n",
        ")\n",
        "\n",
        "\n",
        "\n",
        "test_ds = datasets.ImageFolder(\n",
        "\n",
        "      root = test_path,\n",
        "      transform = tfms_hym\n",
        ")"
      ],
      "metadata": {
        "id": "NcKERYP0IHJO"
      },
      "execution_count": 35,
      "outputs": []
    },
    {
      "cell_type": "code",
      "source": [
        "train_ds.class_to_idx"
      ],
      "metadata": {
        "colab": {
          "base_uri": "https://localhost:8080/"
        },
        "id": "HfeQK8s6IX_h",
        "outputId": "6e03e50a-6c44-40b1-fd37-6a99741117e0"
      },
      "execution_count": 36,
      "outputs": [
        {
          "output_type": "execute_result",
          "data": {
            "text/plain": [
              "{'ants': 0, 'bees': 1}"
            ]
          },
          "metadata": {},
          "execution_count": 36
        }
      ]
    },
    {
      "cell_type": "code",
      "source": [
        "train_dl = DataLoader(train_ds, batch_size = 16, shuffle = True)\n",
        "\n",
        "test_dl = DataLoader(test_ds, batch_size = 16, shuffle = False)"
      ],
      "metadata": {
        "id": "g1lU_XL9IeRG"
      },
      "execution_count": 37,
      "outputs": []
    },
    {
      "cell_type": "code",
      "source": [
        "train_dl.dataset"
      ],
      "metadata": {
        "colab": {
          "base_uri": "https://localhost:8080/"
        },
        "id": "HMgsv4qAJm04",
        "outputId": "a11361c7-4f16-4119-e2e3-4d8b1bbcbf58"
      },
      "execution_count": 38,
      "outputs": [
        {
          "output_type": "execute_result",
          "data": {
            "text/plain": [
              "Dataset ImageFolder\n",
              "    Number of datapoints: 244\n",
              "    Root location: data_2/hymenoptera_data/train\n",
              "    StandardTransform\n",
              "Transform: Compose(\n",
              "               Resize(size=(100, 100), interpolation=bilinear, max_size=None, antialias=warn)\n",
              "               ToTensor()\n",
              "               Normalize(mean=(0.5, 0.5, 0.5), std=(0.2, 0.2, 0.2))\n",
              "           )"
            ]
          },
          "metadata": {},
          "execution_count": 38
        }
      ]
    },
    {
      "cell_type": "code",
      "source": [
        "res_net = models.resnet50(weights=models.ResNet50_Weights.IMAGENET1K_V2)"
      ],
      "metadata": {
        "id": "EpvcHb88Jp3E"
      },
      "execution_count": 39,
      "outputs": []
    },
    {
      "cell_type": "code",
      "source": [
        "summary(res_net, input_size = (3,100,100), batch_size = 16)"
      ],
      "metadata": {
        "colab": {
          "base_uri": "https://localhost:8080/"
        },
        "id": "mmqCZo22J7zK",
        "outputId": "8d682327-467f-4d43-c12d-2926782571be"
      },
      "execution_count": 40,
      "outputs": [
        {
          "output_type": "stream",
          "name": "stdout",
          "text": [
            "----------------------------------------------------------------\n",
            "        Layer (type)               Output Shape         Param #\n",
            "================================================================\n",
            "            Conv2d-1           [16, 64, 50, 50]           9,408\n",
            "       BatchNorm2d-2           [16, 64, 50, 50]             128\n",
            "              ReLU-3           [16, 64, 50, 50]               0\n",
            "         MaxPool2d-4           [16, 64, 25, 25]               0\n",
            "            Conv2d-5           [16, 64, 25, 25]           4,096\n",
            "       BatchNorm2d-6           [16, 64, 25, 25]             128\n",
            "              ReLU-7           [16, 64, 25, 25]               0\n",
            "            Conv2d-8           [16, 64, 25, 25]          36,864\n",
            "       BatchNorm2d-9           [16, 64, 25, 25]             128\n",
            "             ReLU-10           [16, 64, 25, 25]               0\n",
            "           Conv2d-11          [16, 256, 25, 25]          16,384\n",
            "      BatchNorm2d-12          [16, 256, 25, 25]             512\n",
            "           Conv2d-13          [16, 256, 25, 25]          16,384\n",
            "      BatchNorm2d-14          [16, 256, 25, 25]             512\n",
            "             ReLU-15          [16, 256, 25, 25]               0\n",
            "       Bottleneck-16          [16, 256, 25, 25]               0\n",
            "           Conv2d-17           [16, 64, 25, 25]          16,384\n",
            "      BatchNorm2d-18           [16, 64, 25, 25]             128\n",
            "             ReLU-19           [16, 64, 25, 25]               0\n",
            "           Conv2d-20           [16, 64, 25, 25]          36,864\n",
            "      BatchNorm2d-21           [16, 64, 25, 25]             128\n",
            "             ReLU-22           [16, 64, 25, 25]               0\n",
            "           Conv2d-23          [16, 256, 25, 25]          16,384\n",
            "      BatchNorm2d-24          [16, 256, 25, 25]             512\n",
            "             ReLU-25          [16, 256, 25, 25]               0\n",
            "       Bottleneck-26          [16, 256, 25, 25]               0\n",
            "           Conv2d-27           [16, 64, 25, 25]          16,384\n",
            "      BatchNorm2d-28           [16, 64, 25, 25]             128\n",
            "             ReLU-29           [16, 64, 25, 25]               0\n",
            "           Conv2d-30           [16, 64, 25, 25]          36,864\n",
            "      BatchNorm2d-31           [16, 64, 25, 25]             128\n",
            "             ReLU-32           [16, 64, 25, 25]               0\n",
            "           Conv2d-33          [16, 256, 25, 25]          16,384\n",
            "      BatchNorm2d-34          [16, 256, 25, 25]             512\n",
            "             ReLU-35          [16, 256, 25, 25]               0\n",
            "       Bottleneck-36          [16, 256, 25, 25]               0\n",
            "           Conv2d-37          [16, 128, 25, 25]          32,768\n",
            "      BatchNorm2d-38          [16, 128, 25, 25]             256\n",
            "             ReLU-39          [16, 128, 25, 25]               0\n",
            "           Conv2d-40          [16, 128, 13, 13]         147,456\n",
            "      BatchNorm2d-41          [16, 128, 13, 13]             256\n",
            "             ReLU-42          [16, 128, 13, 13]               0\n",
            "           Conv2d-43          [16, 512, 13, 13]          65,536\n",
            "      BatchNorm2d-44          [16, 512, 13, 13]           1,024\n",
            "           Conv2d-45          [16, 512, 13, 13]         131,072\n",
            "      BatchNorm2d-46          [16, 512, 13, 13]           1,024\n",
            "             ReLU-47          [16, 512, 13, 13]               0\n",
            "       Bottleneck-48          [16, 512, 13, 13]               0\n",
            "           Conv2d-49          [16, 128, 13, 13]          65,536\n",
            "      BatchNorm2d-50          [16, 128, 13, 13]             256\n",
            "             ReLU-51          [16, 128, 13, 13]               0\n",
            "           Conv2d-52          [16, 128, 13, 13]         147,456\n",
            "      BatchNorm2d-53          [16, 128, 13, 13]             256\n",
            "             ReLU-54          [16, 128, 13, 13]               0\n",
            "           Conv2d-55          [16, 512, 13, 13]          65,536\n",
            "      BatchNorm2d-56          [16, 512, 13, 13]           1,024\n",
            "             ReLU-57          [16, 512, 13, 13]               0\n",
            "       Bottleneck-58          [16, 512, 13, 13]               0\n",
            "           Conv2d-59          [16, 128, 13, 13]          65,536\n",
            "      BatchNorm2d-60          [16, 128, 13, 13]             256\n",
            "             ReLU-61          [16, 128, 13, 13]               0\n",
            "           Conv2d-62          [16, 128, 13, 13]         147,456\n",
            "      BatchNorm2d-63          [16, 128, 13, 13]             256\n",
            "             ReLU-64          [16, 128, 13, 13]               0\n",
            "           Conv2d-65          [16, 512, 13, 13]          65,536\n",
            "      BatchNorm2d-66          [16, 512, 13, 13]           1,024\n",
            "             ReLU-67          [16, 512, 13, 13]               0\n",
            "       Bottleneck-68          [16, 512, 13, 13]               0\n",
            "           Conv2d-69          [16, 128, 13, 13]          65,536\n",
            "      BatchNorm2d-70          [16, 128, 13, 13]             256\n",
            "             ReLU-71          [16, 128, 13, 13]               0\n",
            "           Conv2d-72          [16, 128, 13, 13]         147,456\n",
            "      BatchNorm2d-73          [16, 128, 13, 13]             256\n",
            "             ReLU-74          [16, 128, 13, 13]               0\n",
            "           Conv2d-75          [16, 512, 13, 13]          65,536\n",
            "      BatchNorm2d-76          [16, 512, 13, 13]           1,024\n",
            "             ReLU-77          [16, 512, 13, 13]               0\n",
            "       Bottleneck-78          [16, 512, 13, 13]               0\n",
            "           Conv2d-79          [16, 256, 13, 13]         131,072\n",
            "      BatchNorm2d-80          [16, 256, 13, 13]             512\n",
            "             ReLU-81          [16, 256, 13, 13]               0\n",
            "           Conv2d-82            [16, 256, 7, 7]         589,824\n",
            "      BatchNorm2d-83            [16, 256, 7, 7]             512\n",
            "             ReLU-84            [16, 256, 7, 7]               0\n",
            "           Conv2d-85           [16, 1024, 7, 7]         262,144\n",
            "      BatchNorm2d-86           [16, 1024, 7, 7]           2,048\n",
            "           Conv2d-87           [16, 1024, 7, 7]         524,288\n",
            "      BatchNorm2d-88           [16, 1024, 7, 7]           2,048\n",
            "             ReLU-89           [16, 1024, 7, 7]               0\n",
            "       Bottleneck-90           [16, 1024, 7, 7]               0\n",
            "           Conv2d-91            [16, 256, 7, 7]         262,144\n",
            "      BatchNorm2d-92            [16, 256, 7, 7]             512\n",
            "             ReLU-93            [16, 256, 7, 7]               0\n",
            "           Conv2d-94            [16, 256, 7, 7]         589,824\n",
            "      BatchNorm2d-95            [16, 256, 7, 7]             512\n",
            "             ReLU-96            [16, 256, 7, 7]               0\n",
            "           Conv2d-97           [16, 1024, 7, 7]         262,144\n",
            "      BatchNorm2d-98           [16, 1024, 7, 7]           2,048\n",
            "             ReLU-99           [16, 1024, 7, 7]               0\n",
            "      Bottleneck-100           [16, 1024, 7, 7]               0\n",
            "          Conv2d-101            [16, 256, 7, 7]         262,144\n",
            "     BatchNorm2d-102            [16, 256, 7, 7]             512\n",
            "            ReLU-103            [16, 256, 7, 7]               0\n",
            "          Conv2d-104            [16, 256, 7, 7]         589,824\n",
            "     BatchNorm2d-105            [16, 256, 7, 7]             512\n",
            "            ReLU-106            [16, 256, 7, 7]               0\n",
            "          Conv2d-107           [16, 1024, 7, 7]         262,144\n",
            "     BatchNorm2d-108           [16, 1024, 7, 7]           2,048\n",
            "            ReLU-109           [16, 1024, 7, 7]               0\n",
            "      Bottleneck-110           [16, 1024, 7, 7]               0\n",
            "          Conv2d-111            [16, 256, 7, 7]         262,144\n",
            "     BatchNorm2d-112            [16, 256, 7, 7]             512\n",
            "            ReLU-113            [16, 256, 7, 7]               0\n",
            "          Conv2d-114            [16, 256, 7, 7]         589,824\n",
            "     BatchNorm2d-115            [16, 256, 7, 7]             512\n",
            "            ReLU-116            [16, 256, 7, 7]               0\n",
            "          Conv2d-117           [16, 1024, 7, 7]         262,144\n",
            "     BatchNorm2d-118           [16, 1024, 7, 7]           2,048\n",
            "            ReLU-119           [16, 1024, 7, 7]               0\n",
            "      Bottleneck-120           [16, 1024, 7, 7]               0\n",
            "          Conv2d-121            [16, 256, 7, 7]         262,144\n",
            "     BatchNorm2d-122            [16, 256, 7, 7]             512\n",
            "            ReLU-123            [16, 256, 7, 7]               0\n",
            "          Conv2d-124            [16, 256, 7, 7]         589,824\n",
            "     BatchNorm2d-125            [16, 256, 7, 7]             512\n",
            "            ReLU-126            [16, 256, 7, 7]               0\n",
            "          Conv2d-127           [16, 1024, 7, 7]         262,144\n",
            "     BatchNorm2d-128           [16, 1024, 7, 7]           2,048\n",
            "            ReLU-129           [16, 1024, 7, 7]               0\n",
            "      Bottleneck-130           [16, 1024, 7, 7]               0\n",
            "          Conv2d-131            [16, 256, 7, 7]         262,144\n",
            "     BatchNorm2d-132            [16, 256, 7, 7]             512\n",
            "            ReLU-133            [16, 256, 7, 7]               0\n",
            "          Conv2d-134            [16, 256, 7, 7]         589,824\n",
            "     BatchNorm2d-135            [16, 256, 7, 7]             512\n",
            "            ReLU-136            [16, 256, 7, 7]               0\n",
            "          Conv2d-137           [16, 1024, 7, 7]         262,144\n",
            "     BatchNorm2d-138           [16, 1024, 7, 7]           2,048\n",
            "            ReLU-139           [16, 1024, 7, 7]               0\n",
            "      Bottleneck-140           [16, 1024, 7, 7]               0\n",
            "          Conv2d-141            [16, 512, 7, 7]         524,288\n",
            "     BatchNorm2d-142            [16, 512, 7, 7]           1,024\n",
            "            ReLU-143            [16, 512, 7, 7]               0\n",
            "          Conv2d-144            [16, 512, 4, 4]       2,359,296\n",
            "     BatchNorm2d-145            [16, 512, 4, 4]           1,024\n",
            "            ReLU-146            [16, 512, 4, 4]               0\n",
            "          Conv2d-147           [16, 2048, 4, 4]       1,048,576\n",
            "     BatchNorm2d-148           [16, 2048, 4, 4]           4,096\n",
            "          Conv2d-149           [16, 2048, 4, 4]       2,097,152\n",
            "     BatchNorm2d-150           [16, 2048, 4, 4]           4,096\n",
            "            ReLU-151           [16, 2048, 4, 4]               0\n",
            "      Bottleneck-152           [16, 2048, 4, 4]               0\n",
            "          Conv2d-153            [16, 512, 4, 4]       1,048,576\n",
            "     BatchNorm2d-154            [16, 512, 4, 4]           1,024\n",
            "            ReLU-155            [16, 512, 4, 4]               0\n",
            "          Conv2d-156            [16, 512, 4, 4]       2,359,296\n",
            "     BatchNorm2d-157            [16, 512, 4, 4]           1,024\n",
            "            ReLU-158            [16, 512, 4, 4]               0\n",
            "          Conv2d-159           [16, 2048, 4, 4]       1,048,576\n",
            "     BatchNorm2d-160           [16, 2048, 4, 4]           4,096\n",
            "            ReLU-161           [16, 2048, 4, 4]               0\n",
            "      Bottleneck-162           [16, 2048, 4, 4]               0\n",
            "          Conv2d-163            [16, 512, 4, 4]       1,048,576\n",
            "     BatchNorm2d-164            [16, 512, 4, 4]           1,024\n",
            "            ReLU-165            [16, 512, 4, 4]               0\n",
            "          Conv2d-166            [16, 512, 4, 4]       2,359,296\n",
            "     BatchNorm2d-167            [16, 512, 4, 4]           1,024\n",
            "            ReLU-168            [16, 512, 4, 4]               0\n",
            "          Conv2d-169           [16, 2048, 4, 4]       1,048,576\n",
            "     BatchNorm2d-170           [16, 2048, 4, 4]           4,096\n",
            "            ReLU-171           [16, 2048, 4, 4]               0\n",
            "      Bottleneck-172           [16, 2048, 4, 4]               0\n",
            "AdaptiveAvgPool2d-173           [16, 2048, 1, 1]               0\n",
            "          Linear-174                 [16, 1000]       2,049,000\n",
            "================================================================\n",
            "Total params: 25,557,032\n",
            "Trainable params: 25,557,032\n",
            "Non-trainable params: 0\n",
            "----------------------------------------------------------------\n",
            "Input size (MB): 1.83\n",
            "Forward/backward pass size (MB): 1005.86\n",
            "Params size (MB): 97.49\n",
            "Estimated Total Size (MB): 1105.19\n",
            "----------------------------------------------------------------\n"
          ]
        }
      ]
    },
    {
      "cell_type": "code",
      "source": [
        "for param in res_net.parameters():\n",
        "  param.requires_grad = False"
      ],
      "metadata": {
        "id": "dPMm19J4KObu"
      },
      "execution_count": 41,
      "outputs": []
    },
    {
      "cell_type": "code",
      "source": [
        "res_net.fc = nn.Linear(res_net.fc.in_features, 2)"
      ],
      "metadata": {
        "id": "baMpJ0K7Kb2_"
      },
      "execution_count": 42,
      "outputs": []
    },
    {
      "cell_type": "code",
      "source": [
        "summary(res_net, input_size = (3,100,100), batch_size = 16)"
      ],
      "metadata": {
        "colab": {
          "base_uri": "https://localhost:8080/"
        },
        "id": "pEmZImEfKkk6",
        "outputId": "3ebf5805-4933-47d3-c0eb-c39a39357022"
      },
      "execution_count": 43,
      "outputs": [
        {
          "output_type": "stream",
          "name": "stdout",
          "text": [
            "----------------------------------------------------------------\n",
            "        Layer (type)               Output Shape         Param #\n",
            "================================================================\n",
            "            Conv2d-1           [16, 64, 50, 50]           9,408\n",
            "       BatchNorm2d-2           [16, 64, 50, 50]             128\n",
            "              ReLU-3           [16, 64, 50, 50]               0\n",
            "         MaxPool2d-4           [16, 64, 25, 25]               0\n",
            "            Conv2d-5           [16, 64, 25, 25]           4,096\n",
            "       BatchNorm2d-6           [16, 64, 25, 25]             128\n",
            "              ReLU-7           [16, 64, 25, 25]               0\n",
            "            Conv2d-8           [16, 64, 25, 25]          36,864\n",
            "       BatchNorm2d-9           [16, 64, 25, 25]             128\n",
            "             ReLU-10           [16, 64, 25, 25]               0\n",
            "           Conv2d-11          [16, 256, 25, 25]          16,384\n",
            "      BatchNorm2d-12          [16, 256, 25, 25]             512\n",
            "           Conv2d-13          [16, 256, 25, 25]          16,384\n",
            "      BatchNorm2d-14          [16, 256, 25, 25]             512\n",
            "             ReLU-15          [16, 256, 25, 25]               0\n",
            "       Bottleneck-16          [16, 256, 25, 25]               0\n",
            "           Conv2d-17           [16, 64, 25, 25]          16,384\n",
            "      BatchNorm2d-18           [16, 64, 25, 25]             128\n",
            "             ReLU-19           [16, 64, 25, 25]               0\n",
            "           Conv2d-20           [16, 64, 25, 25]          36,864\n",
            "      BatchNorm2d-21           [16, 64, 25, 25]             128\n",
            "             ReLU-22           [16, 64, 25, 25]               0\n",
            "           Conv2d-23          [16, 256, 25, 25]          16,384\n",
            "      BatchNorm2d-24          [16, 256, 25, 25]             512\n",
            "             ReLU-25          [16, 256, 25, 25]               0\n",
            "       Bottleneck-26          [16, 256, 25, 25]               0\n",
            "           Conv2d-27           [16, 64, 25, 25]          16,384\n",
            "      BatchNorm2d-28           [16, 64, 25, 25]             128\n",
            "             ReLU-29           [16, 64, 25, 25]               0\n",
            "           Conv2d-30           [16, 64, 25, 25]          36,864\n",
            "      BatchNorm2d-31           [16, 64, 25, 25]             128\n",
            "             ReLU-32           [16, 64, 25, 25]               0\n",
            "           Conv2d-33          [16, 256, 25, 25]          16,384\n",
            "      BatchNorm2d-34          [16, 256, 25, 25]             512\n",
            "             ReLU-35          [16, 256, 25, 25]               0\n",
            "       Bottleneck-36          [16, 256, 25, 25]               0\n",
            "           Conv2d-37          [16, 128, 25, 25]          32,768\n",
            "      BatchNorm2d-38          [16, 128, 25, 25]             256\n",
            "             ReLU-39          [16, 128, 25, 25]               0\n",
            "           Conv2d-40          [16, 128, 13, 13]         147,456\n",
            "      BatchNorm2d-41          [16, 128, 13, 13]             256\n",
            "             ReLU-42          [16, 128, 13, 13]               0\n",
            "           Conv2d-43          [16, 512, 13, 13]          65,536\n",
            "      BatchNorm2d-44          [16, 512, 13, 13]           1,024\n",
            "           Conv2d-45          [16, 512, 13, 13]         131,072\n",
            "      BatchNorm2d-46          [16, 512, 13, 13]           1,024\n",
            "             ReLU-47          [16, 512, 13, 13]               0\n",
            "       Bottleneck-48          [16, 512, 13, 13]               0\n",
            "           Conv2d-49          [16, 128, 13, 13]          65,536\n",
            "      BatchNorm2d-50          [16, 128, 13, 13]             256\n",
            "             ReLU-51          [16, 128, 13, 13]               0\n",
            "           Conv2d-52          [16, 128, 13, 13]         147,456\n",
            "      BatchNorm2d-53          [16, 128, 13, 13]             256\n",
            "             ReLU-54          [16, 128, 13, 13]               0\n",
            "           Conv2d-55          [16, 512, 13, 13]          65,536\n",
            "      BatchNorm2d-56          [16, 512, 13, 13]           1,024\n",
            "             ReLU-57          [16, 512, 13, 13]               0\n",
            "       Bottleneck-58          [16, 512, 13, 13]               0\n",
            "           Conv2d-59          [16, 128, 13, 13]          65,536\n",
            "      BatchNorm2d-60          [16, 128, 13, 13]             256\n",
            "             ReLU-61          [16, 128, 13, 13]               0\n",
            "           Conv2d-62          [16, 128, 13, 13]         147,456\n",
            "      BatchNorm2d-63          [16, 128, 13, 13]             256\n",
            "             ReLU-64          [16, 128, 13, 13]               0\n",
            "           Conv2d-65          [16, 512, 13, 13]          65,536\n",
            "      BatchNorm2d-66          [16, 512, 13, 13]           1,024\n",
            "             ReLU-67          [16, 512, 13, 13]               0\n",
            "       Bottleneck-68          [16, 512, 13, 13]               0\n",
            "           Conv2d-69          [16, 128, 13, 13]          65,536\n",
            "      BatchNorm2d-70          [16, 128, 13, 13]             256\n",
            "             ReLU-71          [16, 128, 13, 13]               0\n",
            "           Conv2d-72          [16, 128, 13, 13]         147,456\n",
            "      BatchNorm2d-73          [16, 128, 13, 13]             256\n",
            "             ReLU-74          [16, 128, 13, 13]               0\n",
            "           Conv2d-75          [16, 512, 13, 13]          65,536\n",
            "      BatchNorm2d-76          [16, 512, 13, 13]           1,024\n",
            "             ReLU-77          [16, 512, 13, 13]               0\n",
            "       Bottleneck-78          [16, 512, 13, 13]               0\n",
            "           Conv2d-79          [16, 256, 13, 13]         131,072\n",
            "      BatchNorm2d-80          [16, 256, 13, 13]             512\n",
            "             ReLU-81          [16, 256, 13, 13]               0\n",
            "           Conv2d-82            [16, 256, 7, 7]         589,824\n",
            "      BatchNorm2d-83            [16, 256, 7, 7]             512\n",
            "             ReLU-84            [16, 256, 7, 7]               0\n",
            "           Conv2d-85           [16, 1024, 7, 7]         262,144\n",
            "      BatchNorm2d-86           [16, 1024, 7, 7]           2,048\n",
            "           Conv2d-87           [16, 1024, 7, 7]         524,288\n",
            "      BatchNorm2d-88           [16, 1024, 7, 7]           2,048\n",
            "             ReLU-89           [16, 1024, 7, 7]               0\n",
            "       Bottleneck-90           [16, 1024, 7, 7]               0\n",
            "           Conv2d-91            [16, 256, 7, 7]         262,144\n",
            "      BatchNorm2d-92            [16, 256, 7, 7]             512\n",
            "             ReLU-93            [16, 256, 7, 7]               0\n",
            "           Conv2d-94            [16, 256, 7, 7]         589,824\n",
            "      BatchNorm2d-95            [16, 256, 7, 7]             512\n",
            "             ReLU-96            [16, 256, 7, 7]               0\n",
            "           Conv2d-97           [16, 1024, 7, 7]         262,144\n",
            "      BatchNorm2d-98           [16, 1024, 7, 7]           2,048\n",
            "             ReLU-99           [16, 1024, 7, 7]               0\n",
            "      Bottleneck-100           [16, 1024, 7, 7]               0\n",
            "          Conv2d-101            [16, 256, 7, 7]         262,144\n",
            "     BatchNorm2d-102            [16, 256, 7, 7]             512\n",
            "            ReLU-103            [16, 256, 7, 7]               0\n",
            "          Conv2d-104            [16, 256, 7, 7]         589,824\n",
            "     BatchNorm2d-105            [16, 256, 7, 7]             512\n",
            "            ReLU-106            [16, 256, 7, 7]               0\n",
            "          Conv2d-107           [16, 1024, 7, 7]         262,144\n",
            "     BatchNorm2d-108           [16, 1024, 7, 7]           2,048\n",
            "            ReLU-109           [16, 1024, 7, 7]               0\n",
            "      Bottleneck-110           [16, 1024, 7, 7]               0\n",
            "          Conv2d-111            [16, 256, 7, 7]         262,144\n",
            "     BatchNorm2d-112            [16, 256, 7, 7]             512\n",
            "            ReLU-113            [16, 256, 7, 7]               0\n",
            "          Conv2d-114            [16, 256, 7, 7]         589,824\n",
            "     BatchNorm2d-115            [16, 256, 7, 7]             512\n",
            "            ReLU-116            [16, 256, 7, 7]               0\n",
            "          Conv2d-117           [16, 1024, 7, 7]         262,144\n",
            "     BatchNorm2d-118           [16, 1024, 7, 7]           2,048\n",
            "            ReLU-119           [16, 1024, 7, 7]               0\n",
            "      Bottleneck-120           [16, 1024, 7, 7]               0\n",
            "          Conv2d-121            [16, 256, 7, 7]         262,144\n",
            "     BatchNorm2d-122            [16, 256, 7, 7]             512\n",
            "            ReLU-123            [16, 256, 7, 7]               0\n",
            "          Conv2d-124            [16, 256, 7, 7]         589,824\n",
            "     BatchNorm2d-125            [16, 256, 7, 7]             512\n",
            "            ReLU-126            [16, 256, 7, 7]               0\n",
            "          Conv2d-127           [16, 1024, 7, 7]         262,144\n",
            "     BatchNorm2d-128           [16, 1024, 7, 7]           2,048\n",
            "            ReLU-129           [16, 1024, 7, 7]               0\n",
            "      Bottleneck-130           [16, 1024, 7, 7]               0\n",
            "          Conv2d-131            [16, 256, 7, 7]         262,144\n",
            "     BatchNorm2d-132            [16, 256, 7, 7]             512\n",
            "            ReLU-133            [16, 256, 7, 7]               0\n",
            "          Conv2d-134            [16, 256, 7, 7]         589,824\n",
            "     BatchNorm2d-135            [16, 256, 7, 7]             512\n",
            "            ReLU-136            [16, 256, 7, 7]               0\n",
            "          Conv2d-137           [16, 1024, 7, 7]         262,144\n",
            "     BatchNorm2d-138           [16, 1024, 7, 7]           2,048\n",
            "            ReLU-139           [16, 1024, 7, 7]               0\n",
            "      Bottleneck-140           [16, 1024, 7, 7]               0\n",
            "          Conv2d-141            [16, 512, 7, 7]         524,288\n",
            "     BatchNorm2d-142            [16, 512, 7, 7]           1,024\n",
            "            ReLU-143            [16, 512, 7, 7]               0\n",
            "          Conv2d-144            [16, 512, 4, 4]       2,359,296\n",
            "     BatchNorm2d-145            [16, 512, 4, 4]           1,024\n",
            "            ReLU-146            [16, 512, 4, 4]               0\n",
            "          Conv2d-147           [16, 2048, 4, 4]       1,048,576\n",
            "     BatchNorm2d-148           [16, 2048, 4, 4]           4,096\n",
            "          Conv2d-149           [16, 2048, 4, 4]       2,097,152\n",
            "     BatchNorm2d-150           [16, 2048, 4, 4]           4,096\n",
            "            ReLU-151           [16, 2048, 4, 4]               0\n",
            "      Bottleneck-152           [16, 2048, 4, 4]               0\n",
            "          Conv2d-153            [16, 512, 4, 4]       1,048,576\n",
            "     BatchNorm2d-154            [16, 512, 4, 4]           1,024\n",
            "            ReLU-155            [16, 512, 4, 4]               0\n",
            "          Conv2d-156            [16, 512, 4, 4]       2,359,296\n",
            "     BatchNorm2d-157            [16, 512, 4, 4]           1,024\n",
            "            ReLU-158            [16, 512, 4, 4]               0\n",
            "          Conv2d-159           [16, 2048, 4, 4]       1,048,576\n",
            "     BatchNorm2d-160           [16, 2048, 4, 4]           4,096\n",
            "            ReLU-161           [16, 2048, 4, 4]               0\n",
            "      Bottleneck-162           [16, 2048, 4, 4]               0\n",
            "          Conv2d-163            [16, 512, 4, 4]       1,048,576\n",
            "     BatchNorm2d-164            [16, 512, 4, 4]           1,024\n",
            "            ReLU-165            [16, 512, 4, 4]               0\n",
            "          Conv2d-166            [16, 512, 4, 4]       2,359,296\n",
            "     BatchNorm2d-167            [16, 512, 4, 4]           1,024\n",
            "            ReLU-168            [16, 512, 4, 4]               0\n",
            "          Conv2d-169           [16, 2048, 4, 4]       1,048,576\n",
            "     BatchNorm2d-170           [16, 2048, 4, 4]           4,096\n",
            "            ReLU-171           [16, 2048, 4, 4]               0\n",
            "      Bottleneck-172           [16, 2048, 4, 4]               0\n",
            "AdaptiveAvgPool2d-173           [16, 2048, 1, 1]               0\n",
            "          Linear-174                    [16, 2]           4,098\n",
            "================================================================\n",
            "Total params: 23,512,130\n",
            "Trainable params: 4,098\n",
            "Non-trainable params: 23,508,032\n",
            "----------------------------------------------------------------\n",
            "Input size (MB): 1.83\n",
            "Forward/backward pass size (MB): 1005.74\n",
            "Params size (MB): 89.69\n",
            "Estimated Total Size (MB): 1097.27\n",
            "----------------------------------------------------------------\n"
          ]
        }
      ]
    },
    {
      "cell_type": "code",
      "source": [
        "loss_fn = nn.CrossEntropyLoss()\n",
        "\n",
        "opt_res = torch.optim.Adam(params = res_net.parameters(), lr = 1e-3)"
      ],
      "metadata": {
        "id": "iZ4IfAS6KtcY"
      },
      "execution_count": 44,
      "outputs": []
    },
    {
      "cell_type": "code",
      "source": [
        "EPOCHS = 20\n",
        "\n",
        "for epochs in range(EPOCHS):\n",
        "  print(f\"epoch: {epochs+1} ---------------------------\")\n",
        "  train(train_dl, res_net, loss_fn, opt_res)\n",
        "  test(test_dl, res_net, loss_fn)\n",
        "\n",
        "print('DONE')"
      ],
      "metadata": {
        "colab": {
          "base_uri": "https://localhost:8080/"
        },
        "id": "4sEn7NgrK9Sd",
        "outputId": "0367816e-a788-4c71-fc7d-2737ccc72bc1"
      },
      "execution_count": 45,
      "outputs": [
        {
          "output_type": "stream",
          "name": "stdout",
          "text": [
            "epoch: 1 ---------------------------\n",
            "loss is 0.7118259072303772  [0 / 244]\n",
            "accuracy is 83.00653594771242 test_loss is 0.508835643529892\n",
            "epoch: 2 ---------------------------\n",
            "loss is 0.4591546356678009  [0 / 244]\n",
            "accuracy is 84.31372549019608 test_loss is 0.4399202734231949\n",
            "epoch: 3 ---------------------------\n",
            "loss is 0.4022071063518524  [0 / 244]\n",
            "accuracy is 84.9673202614379 test_loss is 0.3944307819008827\n",
            "epoch: 4 ---------------------------\n",
            "loss is 0.40738555788993835  [0 / 244]\n",
            "accuracy is 86.27450980392157 test_loss is 0.3565222755074501\n",
            "epoch: 5 ---------------------------\n",
            "loss is 0.22836934030056  [0 / 244]\n",
            "accuracy is 87.58169934640523 test_loss is 0.34592496454715727\n",
            "epoch: 6 ---------------------------\n",
            "loss is 0.24662907421588898  [0 / 244]\n",
            "accuracy is 88.23529411764706 test_loss is 0.35298249274492266\n",
            "epoch: 7 ---------------------------\n",
            "loss is 0.2551671266555786  [0 / 244]\n",
            "accuracy is 85.62091503267973 test_loss is 0.35863327234983444\n",
            "epoch: 8 ---------------------------\n",
            "loss is 0.19866271317005157  [0 / 244]\n",
            "accuracy is 87.58169934640523 test_loss is 0.3551505789160728\n",
            "epoch: 9 ---------------------------\n",
            "loss is 0.304072767496109  [0 / 244]\n",
            "accuracy is 87.58169934640523 test_loss is 0.3437306746840477\n",
            "epoch: 10 ---------------------------\n",
            "loss is 0.12633593380451202  [0 / 244]\n",
            "accuracy is 88.23529411764706 test_loss is 0.3294011205434799\n",
            "epoch: 11 ---------------------------\n",
            "loss is 0.11821025609970093  [0 / 244]\n",
            "accuracy is 88.23529411764706 test_loss is 0.3267424121499062\n",
            "epoch: 12 ---------------------------\n",
            "loss is 0.2046193927526474  [0 / 244]\n",
            "accuracy is 89.54248366013073 test_loss is 0.3179821394383907\n",
            "epoch: 13 ---------------------------\n",
            "loss is 0.08949147909879684  [0 / 244]\n",
            "accuracy is 88.23529411764706 test_loss is 0.3279018089175224\n",
            "epoch: 14 ---------------------------\n",
            "loss is 0.17165447771549225  [0 / 244]\n",
            "accuracy is 89.54248366013073 test_loss is 0.33319171369075773\n",
            "epoch: 15 ---------------------------\n",
            "loss is 0.27821123600006104  [0 / 244]\n",
            "accuracy is 88.88888888888889 test_loss is 0.32098277658224106\n",
            "epoch: 16 ---------------------------\n",
            "loss is 0.20879961550235748  [0 / 244]\n",
            "accuracy is 86.27450980392157 test_loss is 0.3393391609191895\n",
            "epoch: 17 ---------------------------\n",
            "loss is 0.10566742718219757  [0 / 244]\n",
            "accuracy is 89.54248366013073 test_loss is 0.31700688749551775\n",
            "epoch: 18 ---------------------------\n",
            "loss is 0.0724518895149231  [0 / 244]\n",
            "accuracy is 90.19607843137256 test_loss is 0.31515718549489974\n",
            "epoch: 19 ---------------------------\n",
            "loss is 0.06591826677322388  [0 / 244]\n",
            "accuracy is 86.27450980392157 test_loss is 0.3358822286128998\n",
            "epoch: 20 ---------------------------\n",
            "loss is 0.05033848434686661  [0 / 244]\n",
            "accuracy is 90.19607843137256 test_loss is 0.3019994363188744\n",
            "DONE\n"
          ]
        }
      ]
    }
  ]
}