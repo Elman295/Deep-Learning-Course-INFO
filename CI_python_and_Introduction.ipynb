{
  "nbformat": 4,
  "nbformat_minor": 0,
  "metadata": {
    "colab": {
      "provenance": [],
      "authorship_tag": "ABX9TyPXdt6pDEdPf5+HSa/EgLFG",
      "include_colab_link": true
    },
    "kernelspec": {
      "name": "python3",
      "display_name": "Python 3"
    },
    "language_info": {
      "name": "python"
    }
  },
  "cells": [
    {
      "cell_type": "markdown",
      "metadata": {
        "id": "view-in-github",
        "colab_type": "text"
      },
      "source": [
        "<a href=\"https://colab.research.google.com/github/Elman295/Deep-Learning-Course-INFO/blob/main/CI_python_and_Introduction.ipynb\" target=\"_parent\"><img src=\"https://colab.research.google.com/assets/colab-badge.svg\" alt=\"Open In Colab\"/></a>"
      ]
    },
    {
      "cell_type": "markdown",
      "source": [
        "#`Preliminaries`"
      ],
      "metadata": {
        "id": "BSN2YQ6jOkPG"
      }
    },
    {
      "cell_type": "markdown",
      "source": [
        "\n",
        "\n",
        "1.   Linear Algebra\n",
        "2.   Calculus\n",
        "3.   Probability and Statistics\n",
        "\n"
      ],
      "metadata": {
        "id": "f6Od04bAOz3o"
      }
    },
    {
      "cell_type": "markdown",
      "source": [
        "#`Which language??`"
      ],
      "metadata": {
        "id": "gtkUchUMPEIF"
      }
    },
    {
      "cell_type": "markdown",
      "source": [
        "\n",
        "\n",
        "1.   I prefer to use Python in this course. (BUT you can use any other languages like Java, c#, JS and so on )\n",
        "\n",
        "\n",
        "2.   why Python?\n",
        "   1.   Easy to learn\n",
        "   2.   Different libs (PyTorch, TensorFlow and so on)\n",
        "   3.   well-documented resources\n",
        "   4.   Trend in many AI projects ([Source](https://www.statista.com/chart/21017/most-popular-programming-languages/))\n",
        "\n",
        "\n"
      ],
      "metadata": {
        "id": "7hIaAiiJPJXd"
      }
    },
    {
      "cell_type": "markdown",
      "source": [
        "#`Installation`"
      ],
      "metadata": {
        "id": "ICqur5kyQUel"
      }
    },
    {
      "cell_type": "markdown",
      "source": [
        "\n",
        "\n",
        "*   Your simplest option is to install [Miniconda](https://docs.conda.io/projects/miniconda/en/latest/). Note that the Python 3.x version is required.\n",
        "\n"
      ],
      "metadata": {
        "id": "y8bki_aiQYJk"
      }
    },
    {
      "cell_type": "markdown",
      "source": [
        "*INSTALL PYTORCH :*"
      ],
      "metadata": {
        "id": "GX2I6hTqRJK2"
      }
    },
    {
      "cell_type": "markdown",
      "source": [
        "![1.PNG](data:image/png;base64,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)"
      ],
      "metadata": {
        "id": "gLg7Fpu5RBxy"
      }
    },
    {
      "cell_type": "markdown",
      "source": [
        "\n",
        "\n",
        "---\n",
        "\n",
        "\n",
        "\n",
        "---\n",
        "\n"
      ],
      "metadata": {
        "id": "oKuDUCypSz30"
      }
    },
    {
      "cell_type": "markdown",
      "source": [
        "\n",
        "\n",
        "#`Syllabus`\n",
        "\n"
      ],
      "metadata": {
        "id": "5NE3g_RGOioZ"
      }
    },
    {
      "cell_type": "markdown",
      "source": [
        "\n",
        "\n",
        "1.   Python\n",
        "2.   Numpy and Matplotlib\n",
        "3.   PyTorch\n",
        "4.   Image classification (MLP, CNN and Transfer learning)\n",
        "5.   DML (Deep Metric Learning)\n",
        "6.   Face recognition (with DML and Triplet Loss Function)\n",
        "7.   Autoencoder (Encoder and Decoder structures)\n",
        "8.   GAN\n",
        "9.   DCGAN\n",
        "10.  Robotic vision\n",
        "11.  NLP basics (Tokenization and Vectorization)\n",
        "12.  RNN\n",
        "13.  LSTM\n",
        "14.  Text classification (spam detection)\n",
        "15.  Hugging Face (Transformers structures)\n",
        "16.  Text summarization\n",
        "16.  Question/Answer (Chatbot)\n"
      ],
      "metadata": {
        "id": "Ehk4GNywOxhr"
      }
    },
    {
      "cell_type": "markdown",
      "source": [
        "\n",
        "\n",
        "---\n",
        "\n",
        "#`Projects and Credits`"
      ],
      "metadata": {
        "id": "xbBt1fusQA1C"
      }
    },
    {
      "cell_type": "markdown",
      "source": [
        "\n",
        "\n",
        "1.   Project\n",
        "2.   Credits for Kaggle challenges (only one group)\n",
        "\n"
      ],
      "metadata": {
        "id": "MlApD6cfQL8Q"
      }
    },
    {
      "cell_type": "markdown",
      "source": [
        "\n",
        "\n",
        "---\n",
        "\n",
        "\n",
        "\n",
        "\n",
        "\n"
      ],
      "metadata": {
        "id": "Dtbx_91hQiGj"
      }
    },
    {
      "cell_type": "code",
      "source": [
        "print(\"Hello, world!!\") # hello python"
      ],
      "metadata": {
        "colab": {
          "base_uri": "https://localhost:8080/"
        },
        "id": "O8ceI8LqRCSR",
        "outputId": "a98bcc19-d2e1-42f8-ac10-f5870a150c6c"
      },
      "execution_count": null,
      "outputs": [
        {
          "output_type": "stream",
          "name": "stdout",
          "text": [
            "Hello, world!!\n"
          ]
        }
      ]
    },
    {
      "cell_type": "code",
      "source": [
        "name = \"Ali\"\n",
        "age = 20\n",
        "height = 180.3\n",
        "is_boy = True\n",
        "\n",
        "print(name)\n",
        "print(age)\n",
        "print(height)\n",
        "print(is_boy)"
      ],
      "metadata": {
        "colab": {
          "base_uri": "https://localhost:8080/"
        },
        "id": "82M7R6m5S2Bv",
        "outputId": "a044e206-d564-4726-fa57-4d4efbf14acb"
      },
      "execution_count": null,
      "outputs": [
        {
          "output_type": "stream",
          "name": "stdout",
          "text": [
            "Ali\n",
            "20\n",
            "180.3\n",
            "True\n"
          ]
        }
      ]
    },
    {
      "cell_type": "code",
      "source": [
        "print(type(name))\n",
        "print(type(age))\n",
        "print(type(height))\n",
        "print(type(is_boy))"
      ],
      "metadata": {
        "colab": {
          "base_uri": "https://localhost:8080/"
        },
        "id": "cJTn_aCVTFWD",
        "outputId": "8b5efce3-aaf9-4e67-9842-ef4d4c53734e"
      },
      "execution_count": null,
      "outputs": [
        {
          "output_type": "stream",
          "name": "stdout",
          "text": [
            "<class 'str'>\n",
            "<class 'int'>\n",
            "<class 'float'>\n",
            "<class 'bool'>\n"
          ]
        }
      ]
    },
    {
      "cell_type": "code",
      "source": [
        "print(f\"Hello, {name}\")"
      ],
      "metadata": {
        "colab": {
          "base_uri": "https://localhost:8080/"
        },
        "id": "IN48z1TaTNRZ",
        "outputId": "1d0b0091-23dc-4b92-ea2c-fbac0dc98413"
      },
      "execution_count": null,
      "outputs": [
        {
          "output_type": "stream",
          "name": "stdout",
          "text": [
            "Hello, Ali\n"
          ]
        }
      ]
    },
    {
      "cell_type": "code",
      "source": [
        "a = 5\n",
        "b = 3"
      ],
      "metadata": {
        "id": "M1jmImfSTUOA"
      },
      "execution_count": null,
      "outputs": []
    },
    {
      "cell_type": "code",
      "source": [
        "print(a + b)\n",
        "print(a - b)\n",
        "print(a * b)\n",
        "print(a ** b)\n",
        "print( a / b)\n",
        "print( a // b)"
      ],
      "metadata": {
        "colab": {
          "base_uri": "https://localhost:8080/"
        },
        "id": "yr71TPUEUVBS",
        "outputId": "b77ac6a1-b1c9-4a5d-f14e-c06f51420efe"
      },
      "execution_count": null,
      "outputs": [
        {
          "output_type": "stream",
          "name": "stdout",
          "text": [
            "8\n",
            "2\n",
            "15\n",
            "125\n",
            "1.6666666666666667\n",
            "1\n"
          ]
        }
      ]
    },
    {
      "cell_type": "code",
      "source": [
        "a = \"Ali\"\n",
        "b = \"Reza\"\n",
        "print(a + \", \" + b)"
      ],
      "metadata": {
        "colab": {
          "base_uri": "https://localhost:8080/"
        },
        "id": "WWFwjxiAUgNG",
        "outputId": "c341e61e-f77b-4a0f-c3f5-ced2be026cf5"
      },
      "execution_count": null,
      "outputs": [
        {
          "output_type": "stream",
          "name": "stdout",
          "text": [
            "Ali, Reza\n"
          ]
        }
      ]
    },
    {
      "cell_type": "code",
      "source": [
        "a = True\n",
        "b = False\n",
        "\n",
        "print(a and b)\n",
        "print(a or b)\n",
        "print(not a)"
      ],
      "metadata": {
        "colab": {
          "base_uri": "https://localhost:8080/"
        },
        "id": "BX9o5TgEUpn4",
        "outputId": "c751fbfe-e77b-4f65-bf22-758db2c75b40"
      },
      "execution_count": null,
      "outputs": [
        {
          "output_type": "stream",
          "name": "stdout",
          "text": [
            "False\n",
            "True\n",
            "False\n"
          ]
        }
      ]
    },
    {
      "cell_type": "code",
      "source": [
        "a = 12 > 5\n",
        "print(a)"
      ],
      "metadata": {
        "colab": {
          "base_uri": "https://localhost:8080/"
        },
        "id": "WobDnvoAVgev",
        "outputId": "990c180f-8477-48ea-e774-5c67cb15947a"
      },
      "execution_count": null,
      "outputs": [
        {
          "output_type": "stream",
          "name": "stdout",
          "text": [
            "True\n"
          ]
        }
      ]
    },
    {
      "cell_type": "code",
      "source": [
        "print ( 2 == 2)"
      ],
      "metadata": {
        "colab": {
          "base_uri": "https://localhost:8080/"
        },
        "id": "4wL-1ksaXeyd",
        "outputId": "f5a51330-40b0-4f63-acd2-2dbd1d3c7a65"
      },
      "execution_count": null,
      "outputs": [
        {
          "output_type": "stream",
          "name": "stdout",
          "text": [
            "True\n"
          ]
        }
      ]
    },
    {
      "cell_type": "code",
      "source": [
        "print((12>5) and (5 > 10))"
      ],
      "metadata": {
        "colab": {
          "base_uri": "https://localhost:8080/"
        },
        "id": "HRmcLOonWygI",
        "outputId": "6d2a59a8-a443-4a41-f269-5309f25f0ecb"
      },
      "execution_count": null,
      "outputs": [
        {
          "output_type": "stream",
          "name": "stdout",
          "text": [
            "False\n"
          ]
        }
      ]
    },
    {
      "cell_type": "code",
      "source": [
        "a = 12 ** 12\n",
        "len_a = len(str(a))\n",
        "print(len_a)"
      ],
      "metadata": {
        "colab": {
          "base_uri": "https://localhost:8080/"
        },
        "id": "-U7eXWGEaL_0",
        "outputId": "3df93643-27ca-48dd-bdbd-cc213b50a36e"
      },
      "execution_count": null,
      "outputs": [
        {
          "output_type": "stream",
          "name": "stdout",
          "text": [
            "13\n"
          ]
        }
      ]
    },
    {
      "cell_type": "code",
      "source": [
        "names = [\"Ali\", \"Reza\", \"Sara\"]\n",
        "ages = [19, 20, 25]\n",
        "heights = [180.2, 170.0, 184.6]\n",
        "is_boy = [True, True, False]"
      ],
      "metadata": {
        "id": "QIEYaNQHW3Wd"
      },
      "execution_count": null,
      "outputs": []
    },
    {
      "cell_type": "code",
      "source": [
        "print(type(names))"
      ],
      "metadata": {
        "colab": {
          "base_uri": "https://localhost:8080/"
        },
        "id": "6hYewX0UXQq5",
        "outputId": "2d18b5b9-d166-4969-fa8b-929f2addb3bb"
      },
      "execution_count": null,
      "outputs": [
        {
          "output_type": "stream",
          "name": "stdout",
          "text": [
            "<class 'list'>\n"
          ]
        }
      ]
    },
    {
      "cell_type": "code",
      "source": [
        "print(names[0])\n",
        "print(names[1])\n",
        "print(names[2])\n",
        "print(names[-1])"
      ],
      "metadata": {
        "colab": {
          "base_uri": "https://localhost:8080/"
        },
        "id": "_2qbY7IaXSty",
        "outputId": "a910b5ae-46ee-4389-ac78-6eee69243e79"
      },
      "execution_count": null,
      "outputs": [
        {
          "output_type": "stream",
          "name": "stdout",
          "text": [
            "Ali\n",
            "Reza\n",
            "Sara\n",
            "Sara\n"
          ]
        }
      ]
    },
    {
      "cell_type": "code",
      "source": [
        "print(f\"Name: {names[0]} \\n Age: {ages[0]} \\n Height: {heights[0]}\")"
      ],
      "metadata": {
        "colab": {
          "base_uri": "https://localhost:8080/"
        },
        "id": "pgRSHwZfXbRH",
        "outputId": "e2653fc7-e9d4-499a-b9a0-9e17a64f64ec"
      },
      "execution_count": null,
      "outputs": [
        {
          "output_type": "stream",
          "name": "stdout",
          "text": [
            "Name: Ali \n",
            " Age: 19 \n",
            " Height: 180.2\n"
          ]
        }
      ]
    },
    {
      "cell_type": "code",
      "source": [
        "names.append(\"Mohsen\")\n",
        "print(names)"
      ],
      "metadata": {
        "colab": {
          "base_uri": "https://localhost:8080/"
        },
        "id": "GP_Y-lOrXw9e",
        "outputId": "ce8ea381-9f9b-4919-f987-ce11d56288af"
      },
      "execution_count": null,
      "outputs": [
        {
          "output_type": "stream",
          "name": "stdout",
          "text": [
            "['Ali', 'Reza', 'Sara', 'Mohsen']\n"
          ]
        }
      ]
    },
    {
      "cell_type": "code",
      "source": [
        "names.pop()\n",
        "print(names)"
      ],
      "metadata": {
        "colab": {
          "base_uri": "https://localhost:8080/"
        },
        "id": "ku6aUspaX7p2",
        "outputId": "25a64f3e-297f-46a5-de0d-4d9d4a1cb1ab"
      },
      "execution_count": null,
      "outputs": [
        {
          "output_type": "stream",
          "name": "stdout",
          "text": [
            "['Ali', 'Reza', 'Sara']\n"
          ]
        }
      ]
    },
    {
      "cell_type": "code",
      "source": [
        "print(names.index(\"Reza\"))"
      ],
      "metadata": {
        "colab": {
          "base_uri": "https://localhost:8080/"
        },
        "id": "Dz2YwNKkX-e1",
        "outputId": "79974aa4-5676-4b9b-d9b9-c52164fa819e"
      },
      "execution_count": null,
      "outputs": [
        {
          "output_type": "stream",
          "name": "stdout",
          "text": [
            "1\n"
          ]
        }
      ]
    },
    {
      "cell_type": "code",
      "source": [
        "names.insert(3, \"Mohsen\")\n",
        "print(names)"
      ],
      "metadata": {
        "colab": {
          "base_uri": "https://localhost:8080/"
        },
        "id": "ydGej_utYBxT",
        "outputId": "89417de1-229e-4501-aa56-5594e2b270c9"
      },
      "execution_count": null,
      "outputs": [
        {
          "output_type": "stream",
          "name": "stdout",
          "text": [
            "['Ali', 'Reza', 'Sara', 'Mohsen']\n"
          ]
        }
      ]
    },
    {
      "cell_type": "code",
      "source": [
        "names.sort()\n",
        "print(names)"
      ],
      "metadata": {
        "colab": {
          "base_uri": "https://localhost:8080/"
        },
        "id": "MrV1DN_iYHKH",
        "outputId": "6968f15b-9592-45f8-8a49-9e4ad8035363"
      },
      "execution_count": null,
      "outputs": [
        {
          "output_type": "stream",
          "name": "stdout",
          "text": [
            "['Ali', 'Mohsen', 'Reza', 'Sara']\n"
          ]
        }
      ]
    },
    {
      "cell_type": "code",
      "source": [
        "ages.sort()\n",
        "print(ages)"
      ],
      "metadata": {
        "colab": {
          "base_uri": "https://localhost:8080/"
        },
        "id": "GVi15tAAYTlf",
        "outputId": "c063fcc1-fbe2-4acb-d944-1fbef8a31082"
      },
      "execution_count": null,
      "outputs": [
        {
          "output_type": "stream",
          "name": "stdout",
          "text": [
            "[19, 20, 25]\n"
          ]
        }
      ]
    },
    {
      "cell_type": "code",
      "source": [
        "ages.sort(reverse = True)\n",
        "print(ages)"
      ],
      "metadata": {
        "colab": {
          "base_uri": "https://localhost:8080/"
        },
        "id": "tPkeLIiWYYX4",
        "outputId": "dc7d3d3d-7ac6-4bda-f977-3e9118717f2d"
      },
      "execution_count": null,
      "outputs": [
        {
          "output_type": "stream",
          "name": "stdout",
          "text": [
            "[25, 20, 19]\n"
          ]
        }
      ]
    },
    {
      "cell_type": "code",
      "source": [
        "names.remove(\"Mohsen\")\n",
        "print(names)"
      ],
      "metadata": {
        "colab": {
          "base_uri": "https://localhost:8080/"
        },
        "id": "4Qpdc9zmYbm7",
        "outputId": "01e2e07c-96eb-410d-b78b-d8f0fde50a84"
      },
      "execution_count": null,
      "outputs": [
        {
          "output_type": "stream",
          "name": "stdout",
          "text": [
            "['Ali', 'Reza', 'Sara']\n"
          ]
        }
      ]
    },
    {
      "cell_type": "code",
      "source": [
        "numbers = [1,2,5,8,9,10,100,12,14,15]\n"
      ],
      "metadata": {
        "id": "V5KCponMYkON"
      },
      "execution_count": null,
      "outputs": []
    },
    {
      "cell_type": "code",
      "source": [
        "print(len(numbers))"
      ],
      "metadata": {
        "colab": {
          "base_uri": "https://localhost:8080/"
        },
        "id": "r4ew9hGyYtxi",
        "outputId": "e3d46530-d862-426d-d33b-17bd930fc3f3"
      },
      "execution_count": null,
      "outputs": [
        {
          "output_type": "stream",
          "name": "stdout",
          "text": [
            "10\n"
          ]
        }
      ]
    },
    {
      "cell_type": "code",
      "source": [
        "n_1 = numbers[0:5]\n",
        "print(n_1)"
      ],
      "metadata": {
        "colab": {
          "base_uri": "https://localhost:8080/"
        },
        "id": "qknDqxF2Yv9V",
        "outputId": "72060934-b201-46e9-e47d-dc384feb124b"
      },
      "execution_count": null,
      "outputs": [
        {
          "output_type": "stream",
          "name": "stdout",
          "text": [
            "[1, 2, 5, 8, 9]\n"
          ]
        }
      ]
    },
    {
      "cell_type": "code",
      "source": [
        "n_2 = numbers[:5]\n",
        "print(n_2)"
      ],
      "metadata": {
        "colab": {
          "base_uri": "https://localhost:8080/"
        },
        "id": "EkJTbFcLY1fu",
        "outputId": "a5cd0137-626f-4d1b-bde4-43e11474693c"
      },
      "execution_count": null,
      "outputs": [
        {
          "output_type": "stream",
          "name": "stdout",
          "text": [
            "[1, 2, 5, 8, 9]\n"
          ]
        }
      ]
    },
    {
      "cell_type": "code",
      "source": [
        "n_3 = numbers[5:]\n",
        "print(n_3)"
      ],
      "metadata": {
        "colab": {
          "base_uri": "https://localhost:8080/"
        },
        "id": "AduqZqrmY5ZM",
        "outputId": "cc1b3b36-d893-48a5-8534-dfb5f6c88595"
      },
      "execution_count": null,
      "outputs": [
        {
          "output_type": "stream",
          "name": "stdout",
          "text": [
            "[10, 100, 12, 14, 15]\n"
          ]
        }
      ]
    },
    {
      "cell_type": "code",
      "source": [
        "n_4 = numbers[:]\n",
        "print(n_4)"
      ],
      "metadata": {
        "colab": {
          "base_uri": "https://localhost:8080/"
        },
        "id": "ePpg7NNRY-Ci",
        "outputId": "f568090f-c9b3-49e9-d851-7bc7ff1dbd22"
      },
      "execution_count": null,
      "outputs": [
        {
          "output_type": "stream",
          "name": "stdout",
          "text": [
            "[1, 2, 5, 8, 9, 10, 100, 12, 14, 15]\n"
          ]
        }
      ]
    },
    {
      "cell_type": "code",
      "source": [
        "matrix = [[1,2],[3,4]]\n",
        "print(len(matrix))"
      ],
      "metadata": {
        "colab": {
          "base_uri": "https://localhost:8080/"
        },
        "id": "ETx8-pvaZCOL",
        "outputId": "864b0ab8-7fc1-42c8-8503-bd9ff7a1cfab"
      },
      "execution_count": null,
      "outputs": [
        {
          "output_type": "stream",
          "name": "stdout",
          "text": [
            "2\n"
          ]
        }
      ]
    },
    {
      "cell_type": "code",
      "source": [
        "print(matrix[0])"
      ],
      "metadata": {
        "colab": {
          "base_uri": "https://localhost:8080/"
        },
        "id": "2eQ6UC_yZH3j",
        "outputId": "5d2f5268-9587-48a1-fd0f-1f3c0a821338"
      },
      "execution_count": null,
      "outputs": [
        {
          "output_type": "stream",
          "name": "stdout",
          "text": [
            "[1, 2]\n"
          ]
        }
      ]
    },
    {
      "cell_type": "code",
      "source": [
        "print(matrix[0][0])"
      ],
      "metadata": {
        "colab": {
          "base_uri": "https://localhost:8080/"
        },
        "id": "t08ZFI75ZMgI",
        "outputId": "aacf83b3-0c87-4468-d2fa-3815cdac1af9"
      },
      "execution_count": null,
      "outputs": [
        {
          "output_type": "stream",
          "name": "stdout",
          "text": [
            "1\n"
          ]
        }
      ]
    },
    {
      "cell_type": "code",
      "source": [
        "print(matrix[-1][-1])"
      ],
      "metadata": {
        "colab": {
          "base_uri": "https://localhost:8080/"
        },
        "id": "kmsaJDy-ZQzK",
        "outputId": "bfb63b56-c567-441c-cd76-9d7cac73acea"
      },
      "execution_count": null,
      "outputs": [
        {
          "output_type": "stream",
          "name": "stdout",
          "text": [
            "4\n"
          ]
        }
      ]
    },
    {
      "cell_type": "code",
      "source": [
        "name_age = {\n",
        "    \"Ali\": 19,\n",
        "    \"Reza\": 20\n",
        "}\n",
        "print(type(name_age))"
      ],
      "metadata": {
        "colab": {
          "base_uri": "https://localhost:8080/"
        },
        "id": "XXrhWlPlaIgL",
        "outputId": "4c9f7ee7-ae9d-464b-aa77-f1dfd4699824"
      },
      "execution_count": null,
      "outputs": [
        {
          "output_type": "stream",
          "name": "stdout",
          "text": [
            "<class 'dict'>\n"
          ]
        }
      ]
    },
    {
      "cell_type": "code",
      "source": [
        "print(name_age.keys())\n",
        "print(name_age.values())"
      ],
      "metadata": {
        "colab": {
          "base_uri": "https://localhost:8080/"
        },
        "id": "t-2OjxZIageE",
        "outputId": "e97a2f14-f77c-42c0-e3b4-42ca9c8436e4"
      },
      "execution_count": null,
      "outputs": [
        {
          "output_type": "stream",
          "name": "stdout",
          "text": [
            "dict_keys(['Ali', 'Reza'])\n",
            "dict_values([19, 20])\n"
          ]
        }
      ]
    },
    {
      "cell_type": "code",
      "source": [
        "name = \"Ali\"\n",
        "if name == \"Ali\":\n",
        "  print(\"OK\")"
      ],
      "metadata": {
        "colab": {
          "base_uri": "https://localhost:8080/"
        },
        "id": "saxYl631anRi",
        "outputId": "db32f806-eae0-4ecd-bdd8-4379e4290213"
      },
      "execution_count": null,
      "outputs": [
        {
          "output_type": "stream",
          "name": "stdout",
          "text": [
            "OK\n"
          ]
        }
      ]
    },
    {
      "cell_type": "code",
      "source": [
        "a = int(input(\"Please enter your first number:\"))\n",
        "b = int(input(\"Please enter your second number:\"))\n",
        "op = input(\"Please enter your operation:\")\n",
        "\n",
        "if op == \"+\":\n",
        "  print(a + b)\n",
        "elif op == \"-\":\n",
        "  print(a - b)\n",
        "elif op == \"*\":\n",
        "  print(a * b)\n",
        "else:\n",
        "  print(a / b)"
      ],
      "metadata": {
        "colab": {
          "base_uri": "https://localhost:8080/"
        },
        "id": "9-j0ZhkKawiV",
        "outputId": "85f20706-1abd-438c-f37c-0ab4fbe29f34"
      },
      "execution_count": null,
      "outputs": [
        {
          "output_type": "stream",
          "name": "stdout",
          "text": [
            "Please enter your first number:15\n",
            "Please enter your second number:20\n",
            "Please enter your operation:/\n",
            "0.75\n"
          ]
        }
      ]
    },
    {
      "cell_type": "code",
      "source": [
        "i = 0\n",
        "while i < 10:\n",
        "  print(i)\n",
        "  i +=1"
      ],
      "metadata": {
        "colab": {
          "base_uri": "https://localhost:8080/"
        },
        "id": "EtYKWRa8bWPt",
        "outputId": "2fd1cce5-0e2c-4d36-e304-037670ebe0c4"
      },
      "execution_count": null,
      "outputs": [
        {
          "output_type": "stream",
          "name": "stdout",
          "text": [
            "0\n",
            "1\n",
            "2\n",
            "3\n",
            "4\n",
            "5\n",
            "6\n",
            "7\n",
            "8\n",
            "9\n"
          ]
        }
      ]
    },
    {
      "cell_type": "code",
      "source": [
        "for i in range(10):\n",
        "  print(i)"
      ],
      "metadata": {
        "colab": {
          "base_uri": "https://localhost:8080/"
        },
        "id": "SSi01NYRb2Lr",
        "outputId": "6250e8a3-6dfd-4efa-fed3-5b30ce46d853"
      },
      "execution_count": null,
      "outputs": [
        {
          "output_type": "stream",
          "name": "stdout",
          "text": [
            "0\n",
            "1\n",
            "2\n",
            "3\n",
            "4\n",
            "5\n",
            "6\n",
            "7\n",
            "8\n",
            "9\n"
          ]
        }
      ]
    },
    {
      "cell_type": "code",
      "source": [
        "for i in range(10):\n",
        "  print(i, end = \", \")"
      ],
      "metadata": {
        "colab": {
          "base_uri": "https://localhost:8080/"
        },
        "id": "WDnNb_YPb60b",
        "outputId": "72f1b1ad-82c7-4762-c977-caf6fa3f9776"
      },
      "execution_count": null,
      "outputs": [
        {
          "output_type": "stream",
          "name": "stdout",
          "text": [
            "0, 1, 2, 3, 4, 5, 6, 7, 8, 9, "
          ]
        }
      ]
    },
    {
      "cell_type": "code",
      "source": [
        "numbers = [1,2,3,4,5]\n",
        "for i in range(len(numbers)):\n",
        "  print(numbers[i])"
      ],
      "metadata": {
        "colab": {
          "base_uri": "https://localhost:8080/"
        },
        "id": "K5Y34XShb_dN",
        "outputId": "d2a8b143-9d77-43b8-8cd2-14073637c715"
      },
      "execution_count": null,
      "outputs": [
        {
          "output_type": "stream",
          "name": "stdout",
          "text": [
            "1\n",
            "2\n",
            "3\n",
            "4\n",
            "5\n"
          ]
        }
      ]
    },
    {
      "cell_type": "code",
      "source": [
        "for i in numbers:\n",
        "  print(i)"
      ],
      "metadata": {
        "colab": {
          "base_uri": "https://localhost:8080/"
        },
        "id": "5oGnvSbycL3Z",
        "outputId": "ae94b779-a4b7-4eea-e3cd-d0ec4ff04b10"
      },
      "execution_count": null,
      "outputs": [
        {
          "output_type": "stream",
          "name": "stdout",
          "text": [
            "1\n",
            "2\n",
            "3\n",
            "4\n",
            "5\n"
          ]
        }
      ]
    },
    {
      "cell_type": "code",
      "source": [
        "i = 0\n",
        "while i < len(numbers):\n",
        "  print(numbers[i])\n",
        "  i += 1"
      ],
      "metadata": {
        "colab": {
          "base_uri": "https://localhost:8080/"
        },
        "id": "pXOE2PdqcRML",
        "outputId": "944c7777-bdee-42e5-983d-b988597eedfd"
      },
      "execution_count": null,
      "outputs": [
        {
          "output_type": "stream",
          "name": "stdout",
          "text": [
            "1\n",
            "2\n",
            "3\n",
            "4\n",
            "5\n"
          ]
        }
      ]
    },
    {
      "cell_type": "code",
      "source": [
        "sum = 0\n",
        "for i in numbers:\n",
        "  sum += i\n",
        "print(sum)"
      ],
      "metadata": {
        "colab": {
          "base_uri": "https://localhost:8080/"
        },
        "id": "6LCmXqyFcdCB",
        "outputId": "60543844-9e64-47a1-c863-fb9276b1492d"
      },
      "execution_count": null,
      "outputs": [
        {
          "output_type": "stream",
          "name": "stdout",
          "text": [
            "15\n"
          ]
        }
      ]
    },
    {
      "cell_type": "code",
      "source": [
        "prod = 1\n",
        "for i in numbers:\n",
        "  prod *= i\n",
        "\n",
        "print(prod)"
      ],
      "metadata": {
        "colab": {
          "base_uri": "https://localhost:8080/"
        },
        "id": "2fKrLLYpcp1F",
        "outputId": "47e4ab69-88f2-4112-f024-b61f3277c706"
      },
      "execution_count": null,
      "outputs": [
        {
          "output_type": "stream",
          "name": "stdout",
          "text": [
            "120\n"
          ]
        }
      ]
    },
    {
      "cell_type": "code",
      "source": [
        "name_age = {\n",
        "    \"Ali\": 19,\n",
        "    \"Reza\": 20\n",
        "}\n",
        "\n",
        "for key, value in name_age.items():\n",
        "  print(f\"{key}: {value}\")"
      ],
      "metadata": {
        "colab": {
          "base_uri": "https://localhost:8080/"
        },
        "id": "Fqahgl7uczGv",
        "outputId": "92f3d4b7-972a-4017-aa7b-8504c9792867"
      },
      "execution_count": null,
      "outputs": [
        {
          "output_type": "stream",
          "name": "stdout",
          "text": [
            "Ali: 19\n",
            "Reza: 20\n"
          ]
        }
      ]
    },
    {
      "cell_type": "code",
      "source": [
        "names = [\"Ali\", \"Reza\", \"Sara\"]\n",
        "ages = [19, 20, 25]\n",
        "\n",
        "for name, age in zip(names, ages):\n",
        "  print(f\"{name}, {age}\")"
      ],
      "metadata": {
        "colab": {
          "base_uri": "https://localhost:8080/"
        },
        "id": "DL0gOd7vdFEZ",
        "outputId": "ac3ef52f-b363-4795-bb84-b7b71f0bd7e0"
      },
      "execution_count": null,
      "outputs": [
        {
          "output_type": "stream",
          "name": "stdout",
          "text": [
            "Ali, 19\n",
            "Reza, 20\n",
            "Sara, 25\n"
          ]
        }
      ]
    },
    {
      "cell_type": "code",
      "source": [
        "print(range(10))"
      ],
      "metadata": {
        "colab": {
          "base_uri": "https://localhost:8080/"
        },
        "id": "gb3S5x8LdaDg",
        "outputId": "b0583d43-cb55-489f-b8e9-cd294092aa9f"
      },
      "execution_count": null,
      "outputs": [
        {
          "output_type": "stream",
          "name": "stdout",
          "text": [
            "range(0, 10)\n"
          ]
        }
      ]
    },
    {
      "cell_type": "code",
      "source": [
        "print(list(range(10)))"
      ],
      "metadata": {
        "colab": {
          "base_uri": "https://localhost:8080/"
        },
        "id": "_8USOdvzddpg",
        "outputId": "8c195036-1612-4a53-c75b-a92abc452af8"
      },
      "execution_count": null,
      "outputs": [
        {
          "output_type": "stream",
          "name": "stdout",
          "text": [
            "[0, 1, 2, 3, 4, 5, 6, 7, 8, 9]\n"
          ]
        }
      ]
    },
    {
      "cell_type": "code",
      "source": [
        "print(list(range(10,200,2)))"
      ],
      "metadata": {
        "colab": {
          "base_uri": "https://localhost:8080/"
        },
        "id": "4Snldqn4di-o",
        "outputId": "e68c523f-24b7-48e5-8c22-0a36bdb7a9f7"
      },
      "execution_count": null,
      "outputs": [
        {
          "output_type": "stream",
          "name": "stdout",
          "text": [
            "[10, 12, 14, 16, 18, 20, 22, 24, 26, 28, 30, 32, 34, 36, 38, 40, 42, 44, 46, 48, 50, 52, 54, 56, 58, 60, 62, 64, 66, 68, 70, 72, 74, 76, 78, 80, 82, 84, 86, 88, 90, 92, 94, 96, 98, 100, 102, 104, 106, 108, 110, 112, 114, 116, 118, 120, 122, 124, 126, 128, 130, 132, 134, 136, 138, 140, 142, 144, 146, 148, 150, 152, 154, 156, 158, 160, 162, 164, 166, 168, 170, 172, 174, 176, 178, 180, 182, 184, 186, 188, 190, 192, 194, 196, 198]\n"
          ]
        }
      ]
    },
    {
      "cell_type": "code",
      "source": [
        "def say_hello(name, age):\n",
        "  return f\"{name} : {age}\"\n"
      ],
      "metadata": {
        "id": "YMAMcm4idmr6"
      },
      "execution_count": null,
      "outputs": []
    },
    {
      "cell_type": "code",
      "source": [
        "print(say_hello(\"Ali\",19))"
      ],
      "metadata": {
        "colab": {
          "base_uri": "https://localhost:8080/"
        },
        "id": "bCkO8XtfeQGG",
        "outputId": "89ca2c4a-16d4-4376-ddb9-749de7b70a72"
      },
      "execution_count": null,
      "outputs": [
        {
          "output_type": "stream",
          "name": "stdout",
          "text": [
            "Ali : 19\n"
          ]
        }
      ]
    },
    {
      "cell_type": "code",
      "source": [
        "def split_odd_even(array):\n",
        "  odd = []\n",
        "  even = []\n",
        "  for i in array:\n",
        "    if i % 2 == 0:\n",
        "      even.append(i)\n",
        "    else:\n",
        "      odd.append(i)\n",
        "\n",
        "  return odd, even"
      ],
      "metadata": {
        "id": "qVkQZHjzeUUU"
      },
      "execution_count": null,
      "outputs": []
    },
    {
      "cell_type": "code",
      "source": [
        "print(split_odd_even(list(range(100))))"
      ],
      "metadata": {
        "colab": {
          "base_uri": "https://localhost:8080/"
        },
        "id": "aWwrOitLepB8",
        "outputId": "34c0c040-f24d-4c70-916b-3b61c07ff788"
      },
      "execution_count": null,
      "outputs": [
        {
          "output_type": "stream",
          "name": "stdout",
          "text": [
            "([1, 3, 5, 7, 9, 11, 13, 15, 17, 19, 21, 23, 25, 27, 29, 31, 33, 35, 37, 39, 41, 43, 45, 47, 49, 51, 53, 55, 57, 59, 61, 63, 65, 67, 69, 71, 73, 75, 77, 79, 81, 83, 85, 87, 89, 91, 93, 95, 97, 99], [0, 2, 4, 6, 8, 10, 12, 14, 16, 18, 20, 22, 24, 26, 28, 30, 32, 34, 36, 38, 40, 42, 44, 46, 48, 50, 52, 54, 56, 58, 60, 62, 64, 66, 68, 70, 72, 74, 76, 78, 80, 82, 84, 86, 88, 90, 92, 94, 96, 98])\n"
          ]
        }
      ]
    },
    {
      "cell_type": "code",
      "source": [
        "def find_max(array):\n",
        "  max = array[0]\n",
        "  for i in array:\n",
        "    if i > max:\n",
        "      max = i\n",
        "  return max"
      ],
      "metadata": {
        "id": "Bz3aRk3HetfP"
      },
      "execution_count": null,
      "outputs": []
    },
    {
      "cell_type": "code",
      "source": [
        "print(find_max(list(range(100))))"
      ],
      "metadata": {
        "colab": {
          "base_uri": "https://localhost:8080/"
        },
        "id": "yUxC0jI4e8F8",
        "outputId": "66ff2961-9d13-4999-9d25-0e0c9b10fb59"
      },
      "execution_count": null,
      "outputs": [
        {
          "output_type": "stream",
          "name": "stdout",
          "text": [
            "99\n"
          ]
        }
      ]
    },
    {
      "cell_type": "code",
      "source": [
        "max(list(range(100)))"
      ],
      "metadata": {
        "colab": {
          "base_uri": "https://localhost:8080/"
        },
        "id": "SCfbyAsTfAtu",
        "outputId": "f10dd6d8-d6b8-4c3a-99fe-76396f69c873"
      },
      "execution_count": null,
      "outputs": [
        {
          "output_type": "execute_result",
          "data": {
            "text/plain": [
              "99"
            ]
          },
          "metadata": {},
          "execution_count": 64
        }
      ]
    },
    {
      "cell_type": "code",
      "source": [
        "def sum(array):\n",
        "  sum = 0\n",
        "  for i in array:\n",
        "    sum += i\n",
        "  return sum\n",
        "\n",
        "def mean(array):\n",
        "  res = sum(array)\n",
        "  return (res / len(array))\n"
      ],
      "metadata": {
        "id": "H2VC_TpqfFc_"
      },
      "execution_count": null,
      "outputs": []
    },
    {
      "cell_type": "code",
      "source": [
        "print(mean(list(range(100))))"
      ],
      "metadata": {
        "colab": {
          "base_uri": "https://localhost:8080/"
        },
        "id": "x3pV645tfW_c",
        "outputId": "b9fb7ffe-9dba-48d1-a701-c3933d310c5c"
      },
      "execution_count": null,
      "outputs": [
        {
          "output_type": "stream",
          "name": "stdout",
          "text": [
            "49.5\n"
          ]
        }
      ]
    },
    {
      "cell_type": "code",
      "source": [
        "def manhattan_distance(point_1, point_2):\n",
        "  x1, y1 = point_1\n",
        "  x2, y2 = point_2\n",
        "  distance = abs(x1 - x2) + abs(y1 - y2)\n",
        "  return distance"
      ],
      "metadata": {
        "id": "_C6HcHy-fazB"
      },
      "execution_count": null,
      "outputs": []
    },
    {
      "cell_type": "code",
      "source": [
        "print(manhattan_distance((0,0),(2,2)))"
      ],
      "metadata": {
        "colab": {
          "base_uri": "https://localhost:8080/"
        },
        "id": "qWEF5geDf_-T",
        "outputId": "b33ba664-9d02-4c18-ec81-ca47c66860f8"
      },
      "execution_count": null,
      "outputs": [
        {
          "output_type": "stream",
          "name": "stdout",
          "text": [
            "4\n"
          ]
        }
      ]
    },
    {
      "cell_type": "code",
      "source": [
        "def fib(n):\n",
        "  if n == 0 or n == 1:\n",
        "    return 1\n",
        "  return fib(n-1) + fib(n-2)"
      ],
      "metadata": {
        "id": "Qym-cs9cgGeY"
      },
      "execution_count": null,
      "outputs": []
    },
    {
      "cell_type": "code",
      "source": [
        "print(fib(5))"
      ],
      "metadata": {
        "colab": {
          "base_uri": "https://localhost:8080/"
        },
        "id": "ZBhFiPuqgUo6",
        "outputId": "c8a5d0eb-e6b1-41c8-8307-ba0580921907"
      },
      "execution_count": null,
      "outputs": [
        {
          "output_type": "stream",
          "name": "stdout",
          "text": [
            "8\n"
          ]
        }
      ]
    },
    {
      "cell_type": "code",
      "source": [
        "import math\n",
        "import random"
      ],
      "metadata": {
        "id": "PGk318VngWam"
      },
      "execution_count": null,
      "outputs": []
    },
    {
      "cell_type": "code",
      "source": [
        "print(math.pi)"
      ],
      "metadata": {
        "colab": {
          "base_uri": "https://localhost:8080/"
        },
        "id": "PF-2MlrFhJp2",
        "outputId": "3d847977-8414-4d44-cf87-a51ef02ee5bb"
      },
      "execution_count": null,
      "outputs": [
        {
          "output_type": "stream",
          "name": "stdout",
          "text": [
            "3.141592653589793\n"
          ]
        }
      ]
    },
    {
      "cell_type": "code",
      "source": [
        "a = 10\n",
        "print(math.sin(a))"
      ],
      "metadata": {
        "colab": {
          "base_uri": "https://localhost:8080/"
        },
        "id": "0y9aT-39hV1F",
        "outputId": "f55b96e3-bfaf-4327-8ac5-305ba9dd4a5e"
      },
      "execution_count": null,
      "outputs": [
        {
          "output_type": "stream",
          "name": "stdout",
          "text": [
            "-0.5440211108893698\n"
          ]
        }
      ]
    },
    {
      "cell_type": "code",
      "source": [
        "print(math.cos(a))"
      ],
      "metadata": {
        "colab": {
          "base_uri": "https://localhost:8080/"
        },
        "id": "9PrQVYiehaa-",
        "outputId": "bbbeda2e-9b8a-4c79-87a6-5ccc3b79adc6"
      },
      "execution_count": null,
      "outputs": [
        {
          "output_type": "stream",
          "name": "stdout",
          "text": [
            "-0.8390715290764524\n"
          ]
        }
      ]
    },
    {
      "cell_type": "code",
      "source": [
        "print(math.sqrt(a))"
      ],
      "metadata": {
        "colab": {
          "base_uri": "https://localhost:8080/"
        },
        "id": "lIWJ3exIhcK2",
        "outputId": "5918abca-6363-46c2-97a2-8858120592ff"
      },
      "execution_count": null,
      "outputs": [
        {
          "output_type": "stream",
          "name": "stdout",
          "text": [
            "3.1622776601683795\n"
          ]
        }
      ]
    },
    {
      "cell_type": "code",
      "source": [
        "print(math.log(a))"
      ],
      "metadata": {
        "colab": {
          "base_uri": "https://localhost:8080/"
        },
        "id": "3Gy9auQfhe8P",
        "outputId": "46a38eb0-1dc8-4fad-e811-8e6a3883147e"
      },
      "execution_count": null,
      "outputs": [
        {
          "output_type": "stream",
          "name": "stdout",
          "text": [
            "2.302585092994046\n"
          ]
        }
      ]
    },
    {
      "cell_type": "code",
      "source": [
        "print(math.tanh(a))"
      ],
      "metadata": {
        "colab": {
          "base_uri": "https://localhost:8080/"
        },
        "id": "pllTYtiYhiC8",
        "outputId": "7458d85e-ed88-4119-94fa-7704e4bd70b2"
      },
      "execution_count": null,
      "outputs": [
        {
          "output_type": "stream",
          "name": "stdout",
          "text": [
            "0.9999999958776927\n"
          ]
        }
      ]
    },
    {
      "cell_type": "code",
      "source": [
        "print(math.sin(a)**2 + math.cos(a)**2)\n"
      ],
      "metadata": {
        "colab": {
          "base_uri": "https://localhost:8080/"
        },
        "id": "ADn4iG6ThoN3",
        "outputId": "88a48ec6-3c99-4d7d-b604-6952609343d5"
      },
      "execution_count": null,
      "outputs": [
        {
          "output_type": "stream",
          "name": "stdout",
          "text": [
            "1.0\n"
          ]
        }
      ]
    },
    {
      "cell_type": "code",
      "source": [
        "print((math.sin(a)/math.cos(a) == math.tan(a)))"
      ],
      "metadata": {
        "colab": {
          "base_uri": "https://localhost:8080/"
        },
        "id": "Ul2FnTDbhuss",
        "outputId": "f5b6f343-69a7-4658-8f65-bdf7e686dfab"
      },
      "execution_count": null,
      "outputs": [
        {
          "output_type": "stream",
          "name": "stdout",
          "text": [
            "True\n"
          ]
        }
      ]
    },
    {
      "cell_type": "code",
      "source": [
        "help(math)"
      ],
      "metadata": {
        "colab": {
          "base_uri": "https://localhost:8080/"
        },
        "id": "WcHkCVirh2ld",
        "outputId": "3f0c40a2-c9a2-4804-8d2c-549ee770ca63"
      },
      "execution_count": null,
      "outputs": [
        {
          "output_type": "stream",
          "name": "stdout",
          "text": [
            "Help on built-in module math:\n",
            "\n",
            "NAME\n",
            "    math\n",
            "\n",
            "DESCRIPTION\n",
            "    This module provides access to the mathematical functions\n",
            "    defined by the C standard.\n",
            "\n",
            "FUNCTIONS\n",
            "    acos(x, /)\n",
            "        Return the arc cosine (measured in radians) of x.\n",
            "        \n",
            "        The result is between 0 and pi.\n",
            "    \n",
            "    acosh(x, /)\n",
            "        Return the inverse hyperbolic cosine of x.\n",
            "    \n",
            "    asin(x, /)\n",
            "        Return the arc sine (measured in radians) of x.\n",
            "        \n",
            "        The result is between -pi/2 and pi/2.\n",
            "    \n",
            "    asinh(x, /)\n",
            "        Return the inverse hyperbolic sine of x.\n",
            "    \n",
            "    atan(x, /)\n",
            "        Return the arc tangent (measured in radians) of x.\n",
            "        \n",
            "        The result is between -pi/2 and pi/2.\n",
            "    \n",
            "    atan2(y, x, /)\n",
            "        Return the arc tangent (measured in radians) of y/x.\n",
            "        \n",
            "        Unlike atan(y/x), the signs of both x and y are considered.\n",
            "    \n",
            "    atanh(x, /)\n",
            "        Return the inverse hyperbolic tangent of x.\n",
            "    \n",
            "    ceil(x, /)\n",
            "        Return the ceiling of x as an Integral.\n",
            "        \n",
            "        This is the smallest integer >= x.\n",
            "    \n",
            "    comb(n, k, /)\n",
            "        Number of ways to choose k items from n items without repetition and without order.\n",
            "        \n",
            "        Evaluates to n! / (k! * (n - k)!) when k <= n and evaluates\n",
            "        to zero when k > n.\n",
            "        \n",
            "        Also called the binomial coefficient because it is equivalent\n",
            "        to the coefficient of k-th term in polynomial expansion of the\n",
            "        expression (1 + x)**n.\n",
            "        \n",
            "        Raises TypeError if either of the arguments are not integers.\n",
            "        Raises ValueError if either of the arguments are negative.\n",
            "    \n",
            "    copysign(x, y, /)\n",
            "        Return a float with the magnitude (absolute value) of x but the sign of y.\n",
            "        \n",
            "        On platforms that support signed zeros, copysign(1.0, -0.0)\n",
            "        returns -1.0.\n",
            "    \n",
            "    cos(x, /)\n",
            "        Return the cosine of x (measured in radians).\n",
            "    \n",
            "    cosh(x, /)\n",
            "        Return the hyperbolic cosine of x.\n",
            "    \n",
            "    degrees(x, /)\n",
            "        Convert angle x from radians to degrees.\n",
            "    \n",
            "    dist(p, q, /)\n",
            "        Return the Euclidean distance between two points p and q.\n",
            "        \n",
            "        The points should be specified as sequences (or iterables) of\n",
            "        coordinates.  Both inputs must have the same dimension.\n",
            "        \n",
            "        Roughly equivalent to:\n",
            "            sqrt(sum((px - qx) ** 2.0 for px, qx in zip(p, q)))\n",
            "    \n",
            "    erf(x, /)\n",
            "        Error function at x.\n",
            "    \n",
            "    erfc(x, /)\n",
            "        Complementary error function at x.\n",
            "    \n",
            "    exp(x, /)\n",
            "        Return e raised to the power of x.\n",
            "    \n",
            "    expm1(x, /)\n",
            "        Return exp(x)-1.\n",
            "        \n",
            "        This function avoids the loss of precision involved in the direct evaluation of exp(x)-1 for small x.\n",
            "    \n",
            "    fabs(x, /)\n",
            "        Return the absolute value of the float x.\n",
            "    \n",
            "    factorial(x, /)\n",
            "        Find x!.\n",
            "        \n",
            "        Raise a ValueError if x is negative or non-integral.\n",
            "    \n",
            "    floor(x, /)\n",
            "        Return the floor of x as an Integral.\n",
            "        \n",
            "        This is the largest integer <= x.\n",
            "    \n",
            "    fmod(x, y, /)\n",
            "        Return fmod(x, y), according to platform C.\n",
            "        \n",
            "        x % y may differ.\n",
            "    \n",
            "    frexp(x, /)\n",
            "        Return the mantissa and exponent of x, as pair (m, e).\n",
            "        \n",
            "        m is a float and e is an int, such that x = m * 2.**e.\n",
            "        If x is 0, m and e are both 0.  Else 0.5 <= abs(m) < 1.0.\n",
            "    \n",
            "    fsum(seq, /)\n",
            "        Return an accurate floating point sum of values in the iterable seq.\n",
            "        \n",
            "        Assumes IEEE-754 floating point arithmetic.\n",
            "    \n",
            "    gamma(x, /)\n",
            "        Gamma function at x.\n",
            "    \n",
            "    gcd(*integers)\n",
            "        Greatest Common Divisor.\n",
            "    \n",
            "    hypot(...)\n",
            "        hypot(*coordinates) -> value\n",
            "        \n",
            "        Multidimensional Euclidean distance from the origin to a point.\n",
            "        \n",
            "        Roughly equivalent to:\n",
            "            sqrt(sum(x**2 for x in coordinates))\n",
            "        \n",
            "        For a two dimensional point (x, y), gives the hypotenuse\n",
            "        using the Pythagorean theorem:  sqrt(x*x + y*y).\n",
            "        \n",
            "        For example, the hypotenuse of a 3/4/5 right triangle is:\n",
            "        \n",
            "            >>> hypot(3.0, 4.0)\n",
            "            5.0\n",
            "    \n",
            "    isclose(a, b, *, rel_tol=1e-09, abs_tol=0.0)\n",
            "        Determine whether two floating point numbers are close in value.\n",
            "        \n",
            "          rel_tol\n",
            "            maximum difference for being considered \"close\", relative to the\n",
            "            magnitude of the input values\n",
            "          abs_tol\n",
            "            maximum difference for being considered \"close\", regardless of the\n",
            "            magnitude of the input values\n",
            "        \n",
            "        Return True if a is close in value to b, and False otherwise.\n",
            "        \n",
            "        For the values to be considered close, the difference between them\n",
            "        must be smaller than at least one of the tolerances.\n",
            "        \n",
            "        -inf, inf and NaN behave similarly to the IEEE 754 Standard.  That\n",
            "        is, NaN is not close to anything, even itself.  inf and -inf are\n",
            "        only close to themselves.\n",
            "    \n",
            "    isfinite(x, /)\n",
            "        Return True if x is neither an infinity nor a NaN, and False otherwise.\n",
            "    \n",
            "    isinf(x, /)\n",
            "        Return True if x is a positive or negative infinity, and False otherwise.\n",
            "    \n",
            "    isnan(x, /)\n",
            "        Return True if x is a NaN (not a number), and False otherwise.\n",
            "    \n",
            "    isqrt(n, /)\n",
            "        Return the integer part of the square root of the input.\n",
            "    \n",
            "    lcm(*integers)\n",
            "        Least Common Multiple.\n",
            "    \n",
            "    ldexp(x, i, /)\n",
            "        Return x * (2**i).\n",
            "        \n",
            "        This is essentially the inverse of frexp().\n",
            "    \n",
            "    lgamma(x, /)\n",
            "        Natural logarithm of absolute value of Gamma function at x.\n",
            "    \n",
            "    log(...)\n",
            "        log(x, [base=math.e])\n",
            "        Return the logarithm of x to the given base.\n",
            "        \n",
            "        If the base not specified, returns the natural logarithm (base e) of x.\n",
            "    \n",
            "    log10(x, /)\n",
            "        Return the base 10 logarithm of x.\n",
            "    \n",
            "    log1p(x, /)\n",
            "        Return the natural logarithm of 1+x (base e).\n",
            "        \n",
            "        The result is computed in a way which is accurate for x near zero.\n",
            "    \n",
            "    log2(x, /)\n",
            "        Return the base 2 logarithm of x.\n",
            "    \n",
            "    modf(x, /)\n",
            "        Return the fractional and integer parts of x.\n",
            "        \n",
            "        Both results carry the sign of x and are floats.\n",
            "    \n",
            "    nextafter(x, y, /)\n",
            "        Return the next floating-point value after x towards y.\n",
            "    \n",
            "    perm(n, k=None, /)\n",
            "        Number of ways to choose k items from n items without repetition and with order.\n",
            "        \n",
            "        Evaluates to n! / (n - k)! when k <= n and evaluates\n",
            "        to zero when k > n.\n",
            "        \n",
            "        If k is not specified or is None, then k defaults to n\n",
            "        and the function returns n!.\n",
            "        \n",
            "        Raises TypeError if either of the arguments are not integers.\n",
            "        Raises ValueError if either of the arguments are negative.\n",
            "    \n",
            "    pow(x, y, /)\n",
            "        Return x**y (x to the power of y).\n",
            "    \n",
            "    prod(iterable, /, *, start=1)\n",
            "        Calculate the product of all the elements in the input iterable.\n",
            "        \n",
            "        The default start value for the product is 1.\n",
            "        \n",
            "        When the iterable is empty, return the start value.  This function is\n",
            "        intended specifically for use with numeric values and may reject\n",
            "        non-numeric types.\n",
            "    \n",
            "    radians(x, /)\n",
            "        Convert angle x from degrees to radians.\n",
            "    \n",
            "    remainder(x, y, /)\n",
            "        Difference between x and the closest integer multiple of y.\n",
            "        \n",
            "        Return x - n*y where n*y is the closest integer multiple of y.\n",
            "        In the case where x is exactly halfway between two multiples of\n",
            "        y, the nearest even value of n is used. The result is always exact.\n",
            "    \n",
            "    sin(x, /)\n",
            "        Return the sine of x (measured in radians).\n",
            "    \n",
            "    sinh(x, /)\n",
            "        Return the hyperbolic sine of x.\n",
            "    \n",
            "    sqrt(x, /)\n",
            "        Return the square root of x.\n",
            "    \n",
            "    tan(x, /)\n",
            "        Return the tangent of x (measured in radians).\n",
            "    \n",
            "    tanh(x, /)\n",
            "        Return the hyperbolic tangent of x.\n",
            "    \n",
            "    trunc(x, /)\n",
            "        Truncates the Real x to the nearest Integral toward 0.\n",
            "        \n",
            "        Uses the __trunc__ magic method.\n",
            "    \n",
            "    ulp(x, /)\n",
            "        Return the value of the least significant bit of the float x.\n",
            "\n",
            "DATA\n",
            "    e = 2.718281828459045\n",
            "    inf = inf\n",
            "    nan = nan\n",
            "    pi = 3.141592653589793\n",
            "    tau = 6.283185307179586\n",
            "\n",
            "FILE\n",
            "    (built-in)\n",
            "\n",
            "\n"
          ]
        }
      ]
    },
    {
      "cell_type": "markdown",
      "source": [
        "\n",
        "\n",
        "---\n",
        "\n",
        "\n",
        "\n",
        "---\n",
        "\n"
      ],
      "metadata": {
        "id": "z8_6TLYqiKNn"
      }
    },
    {
      "cell_type": "markdown",
      "source": [
        "elmangazayi@gmail.com"
      ],
      "metadata": {
        "id": "ahoo-HsqiGGv"
      }
    }
  ]
}